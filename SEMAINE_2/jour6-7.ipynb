{
 "cells": [
  {
   "cell_type": "markdown",
   "id": "5873e8d9",
   "metadata": {},
   "source": [
    "# Jour 6-7 : Les listes et les tuples\n",
    "## <span style=\"text-decoration: underline\">Structures de données</span>\n",
    "c'est quoi les structures de données ?\n",
    "les structures des données il s'agit des outils essentiels qui nous permettent d'organiser, de stocker et gérer des informations de manière efficace. voir manipuler et d'accéder aux données de façon structurée et cohérente.\n",
    "## Les fonctionnalités des structures de données \n",
    "* <span style=\"text-decoration: underline\"> Organisation et stockage de données</span> : elles nous permettent de stocker des données de différents types, par exemple comme des nombres, des chaînes de caractères, des booléens, ...\n",
    "* <span style=\"text-decoration: underline\"> Accès et manipulation des données</span> : Chaque type de structure de données nous offre des méthodes spécifiques pour accéder aux éléments qu'elle contient. Ces méthodes nous permettent d'ajouter, de supprimer, de modifier et de rechercher des éléments dans la structure de données.\n",
    "* Et auttres comme : la gestion de la mémoire, l'optimisation de la performances, etc\n",
    "\n",
    "## Types de structures de données\n",
    "### 1. Les listes - collections fléxibles\n",
    "Les listes sont des collections et étant comme une structure de donnée, elles nous permettent de stocker une multitude de valeurs, peu importe leur type (int, string, bool, ...). ce qui rend les listes spéciales c'est fléxibilité d'être :\n",
    "* Mutables : les listes donnent l'accès de modifier se contenu après sa création; Ajouter, supprimer ou remplacer des éléments est les qualités des listes.\n",
    "* Hétérogène : une liste peut contenir des éléments de types différents.\n",
    "* Accès ordonné : Les éléments d'une liste sont conservés dans l'ordre d'insertion, ce qui facilite de savoir leur accès par leur position.\n",
    "\n",
    "### Illustraction"
   ]
  },
  {
   "cell_type": "code",
   "execution_count": null,
   "id": "dbd23882",
   "metadata": {},
   "outputs": [],
   "source": [
    " # Création d'une liste à 3 éléments\n",
    "fruits = [\"banane\", \"pomme\", \"orange\"]\n",
    "\n",
    "# Accès à un élément par son index\n",
    "premier_fruit = fruits[0]  # premier élément dans le variable fruits est \"banane\"\n",
    "\n",
    "# Modification d'un élément\n",
    "fruits[1] = \"poire\"  # La pomme est remplacée par une poire\n",
    "\n",
    "# Ajout d'un élément\n",
    "fruits.append(\"épices\")  # \"épices\" est ajouté à la fin de la liste\n",
    "\n",
    "# Suppression d'un élément\n",
    "fruits.remove(\"orange\")  # \"orange\" est supprimé de la liste\n",
    "\n",
    "# Longueur de la liste\n",
    "nombre_fruits = len(fruits)  # la longueur est le nombre des éléments dans les \n"
   ]
  },
  {
   "cell_type": "markdown",
   "id": "06d60637",
   "metadata": {},
   "source": [
    "### *créaction d'une liste*\n",
    "Pour créer une liste vide il suffit de créer premièrement une variable dont on l'initialise avec les crochets [] et pour initialise avec des éléments directement c'est d'entré dans les crochets les éléments en les séparant avec des virgules. Par exemple on veut créer une liste qui va stocker les noms des personnes, soit les noms sont <span style=\"text-decoration: underline\">Faustin</span>, <span style=\"text-decoration: underline\">Joseph</span>, <span style=\"text-decoration: underline\">Bienvenue</span>, <span style=\"text-decoration: underline\">David</span>; qui ont arrivé au cours à temps les éléments que les crochets aura sera écrit comme *[\"Faustin\", \"Joseph\", \"Bienvenu\", \"David\"]* essayons de l'illustrer avec un code python \n",
    "."
   ]
  },
  {
   "cell_type": "code",
   "execution_count": null,
   "id": "521316fc",
   "metadata": {},
   "outputs": [
    {
     "name": "stdout",
     "output_type": "stream",
     "text": [
      "['Faustin', 'Joseph', 'Bienvenue', 'David'] ['pomme', 10, True] [1, 2, 3, 4, 5]\n"
     ]
    }
   ],
   "source": [
    "# Création d'une liste vide\n",
    "ma_liste = []\n",
    "\n",
    "# Création d'une liste avec des valeurs initiales qui sont les noms des personnes arrivaient à temps\n",
    "personnes = [\"Faustin\", \"Joseph\", \"Bienvenue\", \"David\"]\n",
    "\n",
    "# Autre création des listes \n",
    "nombres = [1, 2, 3, 4, 5]\n",
    "melange = [\"pomme\", 10, True]\n",
    "\n",
    "print(personnes, melange, nombres)"
   ]
  },
  {
   "cell_type": "markdown",
   "id": "d85435b5",
   "metadata": {},
   "source": [
    "### *Accès aux éléments d'une liste*\n",
    "Pour accéder ou récupérer un élément spécifique d'une liste, on utilise son index entre crochets []. L'indexation commence à 0 comme dans le parcours de la boucle, donc le premier élément a l'index 0, le second l'index 1, et ainsi de suite. Nous allons essayer d'accéder au nom du premère personne qui est arriver à temps ainsi que de celui qui est arriver le dernier et les autres pour manipuler un peut l'indexation."
   ]
  },
  {
   "cell_type": "code",
   "execution_count": null,
   "id": "900f9ade",
   "metadata": {},
   "outputs": [
    {
     "name": "stdout",
     "output_type": "stream",
     "text": [
      "Bienvenue\n"
     ]
    }
   ],
   "source": [
    "# Accéder au premier élément de la liste personnes\n",
    "premier_personne = personnes[0]  # premier_personne = \"Faustin\"\n",
    "\n",
    "# Accéder au dernier élément de la liste personnes\n",
    "dernier_personne = nombres[-1]  # dernier_personnes = \"David\"\n",
    "\n",
    "# Accéder à un élément par son index négatif\n",
    "avant_dernier_personnes = personnes[-2]  # avant_dernier_personnes = \"Bienvenue\"\n",
    "print(avant_dernier_personnes)"
   ]
  },
  {
   "cell_type": "markdown",
   "id": "64b4c34d",
   "metadata": {},
   "source": [
    "### *Opération et manipulation*\n",
    "* Modifier les contenus d'une liste\n",
    "Comme les listes sont mutables, ce qui signifie qu'on peut modifier leur contenu après leur création. Essayons avec notre liste personnes."
   ]
  },
  {
   "cell_type": "code",
   "execution_count": null,
   "id": "e898af9c",
   "metadata": {},
   "outputs": [
    {
     "name": "stdout",
     "output_type": "stream",
     "text": [
      "['GAbriel', 'Bienfait', 'Janvier', 'Faustin']\n"
     ]
    }
   ],
   "source": [
    "personnes[1] = \"Bienfait\"  # Remplace \"Joseph\" par \"Bienfait\" à l'index 1 de la liste personne\n",
    "personnes.append(\"GAbriel\")  # Ajoute \"GAbriel\" à la fin de la liste personnes\n",
    "personnes.remove(\"David\")  # Supprime \"David\" de la liste personnes\n",
    "personnes.pop(2)  # Supprime l'élément à l'index 2 (le troisième élément qui est Bienvenue)\n",
    "personnes.insert(1, \"Janvier\")  # Insère \"Janvier\" avant \"Bienfait\" (index 1)\n",
    "personnes.reverse() # Renverser les éléments de la liste de leur place\n",
    "print(personnes)"
   ]
  },
  {
   "cell_type": "markdown",
   "id": "8f9ec78e",
   "metadata": {},
   "source": [
    "### *Parcourir une liste*\n",
    "Pour parcourir chaque élément d'une liste et effectuer des actions sur eux, on utilisez une boucle for, faisons un essaie sur la liste personnes, la boucle for il va nous aider itère sur chaque élément de la liste, l'assignant à la variable temporaire par exemple personne dans notre cas dans chaque itération :"
   ]
  },
  {
   "cell_type": "code",
   "execution_count": null,
   "id": "156bcf48",
   "metadata": {},
   "outputs": [
    {
     "name": "stdout",
     "output_type": "stream",
     "text": [
      "Personne N°1 GAbriel\n",
      "Personne N°2 Bienfait\n",
      "Personne N°3 Janvier\n",
      "Personne N°4 Faustin\n"
     ]
    }
   ],
   "source": [
    "numero = 1\n",
    "for personne in personnes:\n",
    "    print(f\"Personne N°{numero}\", personne)  # Affiche chaque personne de la liste\n",
    "    numero += 1\n"
   ]
  },
  {
   "cell_type": "markdown",
   "id": "a54c5bf2",
   "metadata": {},
   "source": [
    "### *Quelques fonctions intergrées pour manipuler les listes*\n",
    "\n",
    "Python couvre plusieurs fonctions pratiques pour manipuler les listes, nous allos voir certains d'entre eux :\n",
    "\n",
    " * len(liste): Renvoie la longueur de la liste.\n",
    " * min(liste): Trouve le plus petit élément de la liste.\n",
    " * max(liste): Trouve le plus grand élément de la liste.\n",
    " * sum(liste): Calcule la somme des éléments de la liste (uniquement pour les nombres).\n",
    " * sorted(liste): Trie la liste en ordre croissant.\n",
    " * reversed(liste): Inverse l'ordre des éléments de la liste.\n",
    " * liste.count(x) : compter combien de fois x est dans la liste.\n",
    " * liste.sort() : Trier les éléments de la liste.\n",
    " * liste.index() : trouver l'index de l'élément.\n",
    " \n",
    "Dans ces fonctions et méthodes le mot **liste** c'est comme le nom de la variable d'une liste, comme dans notre cas nous utilisons souvent la liste personnes, pour trouver sa longueur il s'agit juste de taper **len(personnes)**, etc."
   ]
  },
  {
   "cell_type": "markdown",
   "id": "02d61554",
   "metadata": {},
   "source": [
    "### *Utilisations de la liste comme pile*\n",
    "**C'est quoi Pile ?** Piles il s'agit d'ajouter dans la liste un élément que ça soit le dernier et cet élémen sera le premier à sortir de la liste, souvent on parle de **LIFO(Last In, First Out)** en français ça signifie **dernier entré, premier sorti**. \n",
    "Les méthodes comme list sont celles qui permettent d'utiliser très facilement une liste comme une pile, où le dernier élément ajouté est le premier élément récupéré. Pour ajouter un élément en haut de la pile, utilisez append(). Pour récupérer un élément du haut de la pile, utilisez pop()sans index explicite. Par exemple:"
   ]
  },
  {
   "cell_type": "code",
   "execution_count": null,
   "id": "a46e7e68",
   "metadata": {},
   "outputs": [
    {
     "name": "stdout",
     "output_type": "stream",
     "text": [
      "[1, 3, 5, 7, 11]\n",
      "[1, 3, 5, 7, 11, 13]\n",
      "[1, 3, 5, 7, 11]\n",
      "[1, 3, 5, 7]\n",
      "[1, 3, 5]\n"
     ]
    }
   ],
   "source": [
    "nombres_premiers = [1, 3, 5, 7]\n",
    "\n",
    "# Ajouter les éléments au dernière index de la liste\n",
    "nombres_premiers.append(11)\n",
    "print(nombres_premiers)\n",
    "nombres_premiers.append(13)\n",
    "print(nombres_premiers)\n",
    "\n",
    "# sorti les derniers éléments de la liste\n",
    "nombres_premiers.pop()\n",
    "print(nombres_premiers)\n",
    "nombres_premiers.pop()\n",
    "print(nombres_premiers)\n",
    "nombres_premiers.pop()\n",
    "print(nombres_premiers)"
   ]
  },
  {
   "cell_type": "markdown",
   "id": "e29991da",
   "metadata": {},
   "source": [
    "### *utilisations des listes comme files*\n",
    "**C'est quoi File ?** c'est lorsque le premier élément ajouté est le premier élément récupéré dans la liste. on parle souvent de **FIFO(First In, First Out)** en français ça veut diire **premier entré, premier sorti**.\n",
    "De lors, les listes ne sont pas efficaces à cette fin. Alors que les ajouts et les pops depuis la fin de la liste sont rapides, les insertions ou les pops depuis le début d'une liste sont lents (car tous les autres éléments doivent être décalés d'un seul).\n",
    "En python pour faire du file il faut utilisez le bibliothèque collections, il a été conçue pour avoir des ajouts et des pops rapides des deux extrémités. Exemple d'un programme qui applique le file :"
   ]
  },
  {
   "cell_type": "code",
   "execution_count": null,
   "id": "6de4d5c2",
   "metadata": {},
   "outputs": [
    {
     "name": "stdout",
     "output_type": "stream",
     "text": [
      "deque([1, 3, 5, 7, 11])\n",
      "deque([1, 3, 5, 7, 11, 13])\n",
      "deque([3, 5, 7, 11, 13])\n",
      "deque([5, 7, 11, 13])\n",
      "deque([7, 11, 13])\n"
     ]
    }
   ],
   "source": [
    "from collections import deque\n",
    "\n",
    "nombres_premiers = deque([1, 3, 5, 7])\n",
    "\n",
    "# Ajouter les éléments au dernière index de la liste\n",
    "nombres_premiers.append(11)\n",
    "print(nombres_premiers)\n",
    "nombres_premiers.append(13)\n",
    "print(nombres_premiers)\n",
    "\n",
    "# sorti des permiers éléments de la liste\n",
    "nombres_premiers.popleft()\n",
    "print(nombres_premiers)\n",
    "nombres_premiers.popleft()\n",
    "print(nombres_premiers)\n",
    "nombres_premiers.popleft()\n",
    "print(nombres_premiers)"
   ]
  },
  {
   "cell_type": "markdown",
   "id": "a26779cb",
   "metadata": {},
   "source": [
    "## Exemples sur la manipulation des listes\n",
    "ces exemples va nous permettent de pratique nos connaissances déjà acquis dans la manipulation le premier type de la structure de données qui est le liste.\n",
    "1. Créer un programme qui gère une liste de courses et permet d'ajouter, supprimer et marquer des articles comme achetés.\n",
    "2. Développer un programme qui calcule la moyenne et la médiane d'une liste de nombres.\n",
    "3. Implémenter un jeu de devinettes où le joueur doit trouver un nombre caché dans une liste.\n",
    "### Résolution de certains de ces exemples"
   ]
  },
  {
   "cell_type": "code",
   "execution_count": 8,
   "id": "9e666189",
   "metadata": {},
   "outputs": [
    {
     "name": "stdout",
     "output_type": "stream",
     "text": [
      "\n",
      "\t MENU \n",
      "1. Afficher la liste\n",
      "2. Ajouter un article\n",
      "3. Supprimer un article\n",
      "4. Marquer un article comme acheté\n",
      "5. Quitter\n",
      "Choix invalide.\n",
      "\n",
      "\t MENU \n",
      "1. Afficher la liste\n",
      "2. Ajouter un article\n",
      "3. Supprimer un article\n",
      "4. Marquer un article comme acheté\n",
      "5. Quitter\n",
      "Choix invalide.\n",
      "\n",
      "\t MENU \n",
      "1. Afficher la liste\n",
      "2. Ajouter un article\n",
      "3. Supprimer un article\n",
      "4. Marquer un article comme acheté\n",
      "5. Quitter\n",
      "Choix invalide.\n",
      "\n",
      "\t MENU \n",
      "1. Afficher la liste\n",
      "2. Ajouter un article\n",
      "3. Supprimer un article\n",
      "4. Marquer un article comme acheté\n",
      "5. Quitter\n",
      "Choix invalide.\n",
      "\n",
      "\t MENU \n",
      "1. Afficher la liste\n",
      "2. Ajouter un article\n",
      "3. Supprimer un article\n",
      "4. Marquer un article comme acheté\n",
      "5. Quitter\n",
      "Choix invalide.\n",
      "\n",
      "\t MENU \n",
      "1. Afficher la liste\n",
      "2. Ajouter un article\n",
      "3. Supprimer un article\n",
      "4. Marquer un article comme acheté\n",
      "5. Quitter\n",
      "Choix invalide.\n",
      "\n",
      "\t MENU \n",
      "1. Afficher la liste\n",
      "2. Ajouter un article\n",
      "3. Supprimer un article\n",
      "4. Marquer un article comme acheté\n",
      "5. Quitter\n",
      "Choix invalide.\n",
      "\n",
      "\t MENU \n",
      "1. Afficher la liste\n",
      "2. Ajouter un article\n",
      "3. Supprimer un article\n",
      "4. Marquer un article comme acheté\n",
      "5. Quitter\n",
      "Choix invalide.\n",
      "\n",
      "\t MENU \n",
      "1. Afficher la liste\n",
      "2. Ajouter un article\n",
      "3. Supprimer un article\n",
      "4. Marquer un article comme acheté\n",
      "5. Quitter\n",
      "Choix invalide.\n",
      "\n",
      "\t MENU \n",
      "1. Afficher la liste\n",
      "2. Ajouter un article\n",
      "3. Supprimer un article\n",
      "4. Marquer un article comme acheté\n",
      "5. Quitter\n",
      "Choix invalide.\n",
      "\n",
      "\t MENU \n",
      "1. Afficher la liste\n",
      "2. Ajouter un article\n",
      "3. Supprimer un article\n",
      "4. Marquer un article comme acheté\n",
      "5. Quitter\n",
      "Choix invalide.\n",
      "\n",
      "\t MENU \n",
      "1. Afficher la liste\n",
      "2. Ajouter un article\n",
      "3. Supprimer un article\n",
      "4. Marquer un article comme acheté\n",
      "5. Quitter\n",
      "Choix invalide.\n",
      "\n",
      "\t MENU \n",
      "1. Afficher la liste\n",
      "2. Ajouter un article\n",
      "3. Supprimer un article\n",
      "4. Marquer un article comme acheté\n",
      "5. Quitter\n",
      "Choix invalide.\n",
      "\n",
      "\t MENU \n",
      "1. Afficher la liste\n",
      "2. Ajouter un article\n",
      "3. Supprimer un article\n",
      "4. Marquer un article comme acheté\n",
      "5. Quitter\n",
      "Choix invalide.\n",
      "\n",
      "\t MENU \n",
      "1. Afficher la liste\n",
      "2. Ajouter un article\n",
      "3. Supprimer un article\n",
      "4. Marquer un article comme acheté\n",
      "5. Quitter\n",
      "Choix invalide.\n",
      "\n",
      "\t MENU \n",
      "1. Afficher la liste\n",
      "2. Ajouter un article\n",
      "3. Supprimer un article\n",
      "4. Marquer un article comme acheté\n",
      "5. Quitter\n",
      "Choix invalide.\n",
      "\n",
      "\t MENU \n",
      "1. Afficher la liste\n",
      "2. Ajouter un article\n",
      "3. Supprimer un article\n",
      "4. Marquer un article comme acheté\n",
      "5. Quitter\n",
      "Choix invalide.\n",
      "\n",
      "\t MENU \n",
      "1. Afficher la liste\n",
      "2. Ajouter un article\n",
      "3. Supprimer un article\n",
      "4. Marquer un article comme acheté\n",
      "5. Quitter\n",
      "Choix invalide.\n",
      "\n",
      "\t MENU \n",
      "1. Afficher la liste\n",
      "2. Ajouter un article\n",
      "3. Supprimer un article\n",
      "4. Marquer un article comme acheté\n",
      "5. Quitter\n",
      "Choix invalide.\n",
      "\n",
      "\t MENU \n",
      "1. Afficher la liste\n",
      "2. Ajouter un article\n",
      "3. Supprimer un article\n",
      "4. Marquer un article comme acheté\n",
      "5. Quitter\n",
      "Choix invalide.\n",
      "\n",
      "\t MENU \n",
      "1. Afficher la liste\n",
      "2. Ajouter un article\n",
      "3. Supprimer un article\n",
      "4. Marquer un article comme acheté\n",
      "5. Quitter\n",
      "Choix invalide.\n",
      "\n",
      "\t MENU \n",
      "1. Afficher la liste\n",
      "2. Ajouter un article\n",
      "3. Supprimer un article\n",
      "4. Marquer un article comme acheté\n",
      "5. Quitter\n",
      "Choix invalide.\n",
      "\n",
      "\t MENU \n",
      "1. Afficher la liste\n",
      "2. Ajouter un article\n",
      "3. Supprimer un article\n",
      "4. Marquer un article comme acheté\n",
      "5. Quitter\n",
      "Choix invalide.\n",
      "\n",
      "\t MENU \n",
      "1. Afficher la liste\n",
      "2. Ajouter un article\n",
      "3. Supprimer un article\n",
      "4. Marquer un article comme acheté\n",
      "5. Quitter\n",
      "Choix invalide.\n",
      "\n",
      "\t MENU \n",
      "1. Afficher la liste\n",
      "2. Ajouter un article\n",
      "3. Supprimer un article\n",
      "4. Marquer un article comme acheté\n",
      "5. Quitter\n",
      "Choix invalide.\n",
      "\n",
      "\t MENU \n",
      "1. Afficher la liste\n",
      "2. Ajouter un article\n",
      "3. Supprimer un article\n",
      "4. Marquer un article comme acheté\n",
      "5. Quitter\n",
      "Choix invalide.\n",
      "\n",
      "\t MENU \n",
      "1. Afficher la liste\n",
      "2. Ajouter un article\n",
      "3. Supprimer un article\n",
      "4. Marquer un article comme acheté\n",
      "5. Quitter\n",
      "Choix invalide.\n",
      "\n",
      "\t MENU \n",
      "1. Afficher la liste\n",
      "2. Ajouter un article\n",
      "3. Supprimer un article\n",
      "4. Marquer un article comme acheté\n",
      "5. Quitter\n",
      "Choix invalide.\n",
      "\n",
      "\t MENU \n",
      "1. Afficher la liste\n",
      "2. Ajouter un article\n",
      "3. Supprimer un article\n",
      "4. Marquer un article comme acheté\n",
      "5. Quitter\n",
      "Choix invalide.\n",
      "\n",
      "\t MENU \n",
      "1. Afficher la liste\n",
      "2. Ajouter un article\n",
      "3. Supprimer un article\n",
      "4. Marquer un article comme acheté\n",
      "5. Quitter\n",
      "Choix invalide.\n",
      "\n",
      "\t MENU \n",
      "1. Afficher la liste\n",
      "2. Ajouter un article\n",
      "3. Supprimer un article\n",
      "4. Marquer un article comme acheté\n",
      "5. Quitter\n",
      "Choix invalide.\n",
      "\n",
      "\t MENU \n",
      "1. Afficher la liste\n",
      "2. Ajouter un article\n",
      "3. Supprimer un article\n",
      "4. Marquer un article comme acheté\n",
      "5. Quitter\n"
     ]
    }
   ],
   "source": [
    "# Premier exemple\n",
    "\n",
    "def afficher_liste(liste_articles):\n",
    "  if not liste_articles:\n",
    "    print(\"\\nLa liste de articles est vide.\")\n",
    "  else:\n",
    "    for item in liste_articles:\n",
    "      print(f\"- {item}\")\n",
    "\n",
    "def ajouter_article(liste_articles):\n",
    "  article = input(\"Quel article souhaitez-vous ajouter ? : \")\n",
    "  liste_articles.append(article)\n",
    "  print(f\"{article} ajouté à la liste.\")\n",
    "\n",
    "def supprimer_article(liste_articles):\n",
    "  if not liste_articles:\n",
    "    print(\"\\nLa liste de articles est vide.\")\n",
    "  afficher_liste(liste_articles)\n",
    "  index = int(input(\"Entrez le numéro de l'article à supprimer : \")) - 1\n",
    "\n",
    "  if 0 <= index < len(liste_articles):\n",
    "    article_supprime = liste_articles.pop(index)\n",
    "    print(f\"{article_supprime} supprimé de la liste.\")\n",
    "  else:\n",
    "    print(\"Numéro d'article invalide.\")\n",
    "\n",
    "def marquer_achete(liste_articles):\n",
    "  if not liste_articles:\n",
    "    print(\"La liste de articles est vide.\")\n",
    "  afficher_liste(liste_articles)\n",
    "  index = int(input(\"Entrez le numéro de l'article à marquer comme acheté : \")) - 1\n",
    "\n",
    "  if 0 <= index < len(liste_articles):\n",
    "    liste_articles[index] = f\"{liste_articles[index]} (acheté)\"\n",
    "    print(f\"Article marqué comme acheté.\")\n",
    "  else:\n",
    "    print(\"Numéro d'article invalide.\")\n",
    "\n",
    "def main():\n",
    "  # Fonction principale.\n",
    "  liste_articles = []\n",
    "\n",
    "  while True:\n",
    "    print(\"\\n\\t MENU \")\n",
    "    print(\"1. Afficher la liste\")\n",
    "    print(\"2. Ajouter un article\")\n",
    "    print(\"3. Supprimer un article\")\n",
    "    print(\"4. Marquer un article comme acheté\")\n",
    "    print(\"5. Quitter\")\n",
    "\n",
    "    choix = input(\"Entrez votre choix : \")\n",
    "\n",
    "    if choix == \"1\":\n",
    "      afficher_liste(liste_articles)\n",
    "    elif choix == \"2\":\n",
    "      ajouter_article(liste_articles)\n",
    "    elif choix == \"3\":\n",
    "      supprimer_article(liste_articles)\n",
    "    elif choix == \"4\":\n",
    "      marquer_achete(liste_articles)\n",
    "    elif choix == \"5\":\n",
    "      break\n",
    "    else:\n",
    "      print(\"Choix invalide.\")\n",
    "\n",
    "if __name__ == \"__main__\":\n",
    "  main()\n"
   ]
  },
  {
   "cell_type": "code",
   "execution_count": null,
   "id": "c8d72ca9",
   "metadata": {},
   "outputs": [],
   "source": [
    "# Deuxième exemples\n",
    "\n",
    "def moyenne(nombres):\n",
    "  if not nombres:\n",
    "    return None\n",
    "  return sum(nombres) / len(nombres)\n",
    "\n",
    "def mediane(nombres):\n",
    "  if not nombres:\n",
    "    return None\n",
    "  nombres_tries = sorted(nombres)\n",
    "  longueur = len(nombres_tries)\n",
    "  milieu = longueur // 2\n",
    "  if longueur % 2 == 0:\n",
    "    return (nombres_tries[milieu - 1] + nombres_tries[milieu]) / 2\n",
    "  else:\n",
    "    return nombres_tries[milieu]\n",
    "\n",
    "def main():\n",
    "  # Fonction principale.\n",
    "  nombres = []\n",
    "  while True:\n",
    "    nombre_str = input(\"Entrez un nombre (ou vide pour terminer) : \")\n",
    "    if not nombre_str:\n",
    "      break\n",
    "    try:\n",
    "      nombre = float(nombre_str)\n",
    "      nombres.append(nombre)\n",
    "    except ValueError:\n",
    "      print(\"Entrée invalide. Veuillez entrer un nombre.\")\n",
    "  if nombres:\n",
    "    print(f\"Moyenne : {moyenne(nombres)}\")\n",
    "    print(f\"Médiane : {mediane(nombres)}\")\n",
    "  else:\n",
    "    print(\"Aucune donnée entrée.\")\n",
    "\n",
    "if __name__ == \"__main__\":\n",
    "  main()\n"
   ]
  },
  {
   "cell_type": "markdown",
   "id": "e1654e4d",
   "metadata": {},
   "source": [
    "### Quelques méthodes plus avancées sur les listes\n",
    "**1. Tranchage :** Le tranchage nous permet d'extraire une sous-liste d'une liste existante. Il utilise la syntaxe [start:stop:step] soit disant :\n",
    "* start : c'est l'index de départ il est inclus par défaut;\n",
    "* stop : c'est l'index de la fin, il est exclus par défaut et\n",
    "* step : Désigne les pas d'incrémentation, souvent il est répresenté par 1 comme valeur par défaut."
   ]
  },
  {
   "cell_type": "code",
   "execution_count": null,
   "id": "9865e624",
   "metadata": {},
   "outputs": [
    {
     "name": "stdout",
     "output_type": "stream",
     "text": [
      "['Bienfait', 'Janvier']\n",
      "['Janvier', 'Faustin']\n",
      "['GAbriel', 'Janvier']\n"
     ]
    }
   ],
   "source": [
    "# la liste personnes = ['GAbriel', 'Bienfait', 'Janvier', 'Faustin'] \n",
    "# fruits = [\"banane\", \"pomme\", \"orange\", \"fraise\", \"kiwi\"]\n",
    "sous_liste1 = personnes[1:3]  # ['Bienfait', 'Janvier']  # Du deuxième au troisième élément (exclusif)\n",
    "sous_liste2 = personnes[-2:]  # ['Janvier', 'Faustin']  # Du deuxième élément de la fin jusqu'à la fin\n",
    "sous_liste3 = personnes[::2]  # ['GAbriel', 'Janvier']  # Prend tous les éléments avec un pas de 2\n",
    "\n",
    "print(sous_liste1)\n",
    "print(sous_liste2)\n",
    "print(sous_liste3)"
   ]
  },
  {
   "cell_type": "markdown",
   "id": "99a15206",
   "metadata": {},
   "source": [
    "**2. La concaténation :** Elle permet de combiner plusieurs listes en une seule en utilisant l'opérateur +"
   ]
  },
  {
   "cell_type": "code",
   "execution_count": null,
   "id": "355b418d",
   "metadata": {},
   "outputs": [
    {
     "name": "stdout",
     "output_type": "stream",
     "text": [
      "[1, 2, 3, 4, 5, 6]\n"
     ]
    }
   ],
   "source": [
    "liste1 = [1, 2, 3]\n",
    "liste2 = [4, 5, 6]\n",
    "liste_combinee = liste1 + liste2  # [1, 2, 3, 4, 5, 6]\n",
    "print(liste_combinee)"
   ]
  },
  {
   "cell_type": "markdown",
   "id": "2051aaa8",
   "metadata": {},
   "source": [
    "**3. Filtrage:** Le filtrage permet de créer une nouvelle liste à partir d'une liste existante en sélectionnant uniquement les éléments qui répondent à une condition spécifique. On Utilise la fonction filter() avec une fonction de test comme argument de la méthode."
   ]
  },
  {
   "cell_type": "code",
   "execution_count": null,
   "id": "d679ebff",
   "metadata": {},
   "outputs": [
    {
     "name": "stdout",
     "output_type": "stream",
     "text": [
      "[2, 4, 6]\n"
     ]
    }
   ],
   "source": [
    "# Filtrons la liste combinée, liste_combinee = [1, 2, 3, 4, 5, 6]\n",
    "\n",
    "def est_pair(nombre):\n",
    "    return nombre % 2 == 0\n",
    "\n",
    "liste_nombres_pairs = list(filter(est_pair, liste_combinee))  # output est [2, 4, 6]\n",
    "print(liste_nombres_pairs)\n"
   ]
  },
  {
   "cell_type": "markdown",
   "id": "c5214e37",
   "metadata": {},
   "source": [
    "### Faire une matrice à l'aide des listes\n",
    "**1. Créer une matrice à partir de listes :** Pour créer une matrice à l'aide de listes, on déclare simplement une liste de listes donc on suppose juste que ça sera une liste dont les élément de la liste sont aussi des liste, où chaque liste interne représente une rangée de la matrice. Essayons de créer une matrice qui sera une liste contenant trois listes imbriquées, chacune d'elle va représenter une rangée de trois éléments."
   ]
  },
  {
   "cell_type": "code",
   "execution_count": null,
   "id": "3d57d69b",
   "metadata": {},
   "outputs": [
    {
     "name": "stdout",
     "output_type": "stream",
     "text": [
      "[[1, 2, 3], [4, 5, 6], [7, 8, 9]]\n"
     ]
    }
   ],
   "source": [
    "matrice = [\n",
    "    [1, 2, 3],\n",
    "    [4, 5, 6],\n",
    "    [7, 8, 9]\n",
    "]\n",
    "print(matrice)"
   ]
  },
  {
   "cell_type": "markdown",
   "id": "16891732",
   "metadata": {},
   "source": [
    "**Comment accéder aux éléments d'une matrice ?** \n",
    "\n",
    "Pour accéder à un élément spécifique d'une matrice, on utilise l'indexation des listes dont Le premier indice indique la rangée, le second indique l'index de l'élément dans cette rangée."
   ]
  },
  {
   "cell_type": "code",
   "execution_count": null,
   "id": "f63a5f14",
   "metadata": {},
   "outputs": [
    {
     "name": "stdout",
     "output_type": "stream",
     "text": [
      "6\n"
     ]
    }
   ],
   "source": [
    "element = matrice[1][2]  # element = 6 (élément de la rangée 1, colonne 2)\n",
    "print(element)"
   ]
  },
  {
   "cell_type": "markdown",
   "id": "e7df585d",
   "metadata": {},
   "source": [
    "**Comment parcourir une matrice ?**\n",
    "\n",
    "Pour pouvoir parcourir une matrice, on le fait à l'aide de boucles for imbriquées qui va nous aidez d'itérer sur chaque rangée(ligne) et chaque élément de la matrice."
   ]
  },
  {
   "cell_type": "code",
   "execution_count": null,
   "id": "a2dc62cf",
   "metadata": {},
   "outputs": [
    {
     "name": "stdout",
     "output_type": "stream",
     "text": [
      "1\n",
      "2\n",
      "3\n",
      "4\n",
      "5\n",
      "6\n",
      "7\n",
      "8\n",
      "9\n"
     ]
    }
   ],
   "source": [
    "for rangee in matrice:\n",
    "    for element in rangee:\n",
    "        print(element)\n"
   ]
  },
  {
   "cell_type": "markdown",
   "id": "a536b6b3",
   "metadata": {},
   "source": [
    "**OPERATIONS SUR LES MATRICES**\n",
    "\n",
    "Grâce aux listes on arriver à effectuer des opérations mathématiques courantes sur les matrices comme l'addition, la soustraction, la multiplication et la transposition, juste en utilisant des boucles et des manipulations de listes.\n",
    "Un exeple qui fait l'addition entre deux matrices :\n"
   ]
  },
  {
   "cell_type": "code",
   "execution_count": null,
   "id": "80e7339c",
   "metadata": {},
   "outputs": [
    {
     "name": "stdout",
     "output_type": "stream",
     "text": [
      "[[6, 8], [10, 12]]\n"
     ]
    }
   ],
   "source": [
    "# Addition de deux matrices\n",
    "\n",
    "def addition_matrices(matrice1, matrice2):\n",
    "    # Vérifier si les matrices ont la même taille\n",
    "    if len(matrice1) != len(matrice2) or len(matrice1[0]) != len(matrice2[0]):\n",
    "        raise ValueError(\"Les matrices doivent avoir la même taille\")\n",
    "\n",
    "    # Initialiser la matrice résultante\n",
    "    matrice_resultante = []\n",
    "    for i in range(len(matrice1)):\n",
    "        ligne_resultante = []\n",
    "        for j in range(len(matrice1[0])):\n",
    "            ligne_resultante.append(matrice1[i][j] + matrice2[i][j])\n",
    "        matrice_resultante.append(ligne_resultante)\n",
    "\n",
    "    return matrice_resultante\n",
    "\n",
    "# Exemple d'utilisation\n",
    "matrice1 = [[1, 2], [3, 4]]\n",
    "matrice2 = [[5, 6], [7, 8]]\n",
    "matrice_somme = addition_matrices(matrice1, matrice2)\n",
    "print(matrice_somme)  # [[6, 8], [10, 12]]\n"
   ]
  },
  {
   "cell_type": "markdown",
   "id": "a93b9835",
   "metadata": {},
   "source": [
    "## 2. les tuples - collection immutables\n",
    "Les tuples sont comme des paniers rigides donc qui ne sont pas flexibles. Ils stockent une collection de valeurs, mais contrairement aux listes, on ne peut pas modifier leur contenu une fois ils sont créés. Chez lui c'est cette immuabilité qui garantit l'intégrité de ses données et les rend idéales. il a comme caractéristique :\n",
    "* Immutabilité: Les tuples eux les valeurs ne peuvent pas être modifiées après sa création.\n",
    "* Hétérogénéité: C'est tout comme les listes, les tuples peuvent aussi contenir des éléments de types différents.\n",
    "* Ordre immuable: L'ordre d'insertion des éléments est conservé et ne peut pas être modifié."
   ]
  },
  {
   "cell_type": "markdown",
   "id": "747e8e57",
   "metadata": {},
   "source": [
    "   ### Comparaison des Tuples avec les Listes\n",
    "Les tuples et les listes sont des structures de données ordonnées très importantes, mais présentent des différences qui le qualifie\n",
    "   \n",
    "<table>\n",
    "  <tr>\n",
    "    <th>Caractéristique</th>\n",
    "    <th>Tuples</th>\n",
    "    <th>Listes</th>\n",
    "  </tr>\n",
    "  <tr>\n",
    "    <td>Immuabilité</td>\n",
    "    <td>Immuables (ne peuvent pas être modifiés)</td>\n",
    "    <td>Mutables (peuvent être modifiés)</td>\n",
    "  </tr>\n",
    "  <tr>\n",
    "    <td>Performance</td>\n",
    "    <td>Généralement plus performantes pour certaines opérations</td>\n",
    "    <td>Moins performantes pour certaines opérations</td>\n",
    "  </tr>\n",
    "      <tr>\n",
    "    <td>Utilisation</td>\n",
    "    <td>Stockage de données immuables, clés de dictionnaire</td>\n",
    "    <td>Stockage de données mutables, listes de courses, etc.</td>\n",
    "  </tr>\n",
    "</table>\n"
   ]
  },
  {
   "cell_type": "markdown",
   "id": "1bfffc92",
   "metadata": {},
   "source": [
    "### Création des tuples\n",
    "Les tuples en Python sont créés necessairement à l'aide de parenthèses et en séparant les éléments par des virgules. Mais il n'est pas exigent de mettre le parenthèses sauf c'est utile pour la liisibilité du code. c'est-à-dire que c'est possible de créer une variable et lui affecter des valeurs séparées par des virgules pour le cas d'un seul élément c'est pas posssible d'être un tupe peut-être si à la fin il y a une virgule simple et même pour le parenthèse, pour un seul élément il est obligé d'ajouter une virgule à la fin. voyons c'est ça donne à ces deux catégories de création :"
   ]
  },
  {
   "cell_type": "code",
   "execution_count": null,
   "id": "63e4b777",
   "metadata": {},
   "outputs": [],
   "source": [
    "# Tuple vide\n",
    "tuple1 = ()\n",
    "\n",
    "# Tuple avec un élément\n",
    "tuple2 = (10,)\n",
    "\n",
    "# Tuple avec plusieurs éléments\n",
    "tuple3 = (5, \"Hello\", True)\n",
    "\n",
    "\"\"\"Comme j'ai dis que c'est possible de créer un tuple juste en lui attribuant des valeurs en le séparant par des virgules\n",
    "    sans parenthèses\n",
    "\"\"\"\n",
    "# Tuple avec un élément\n",
    "tuple4 = \"World\",\n",
    "\n",
    "# Tuple avec plusieurs éléments\n",
    "tuple5 = 5, \"Bonjour\", 3.5\n"
   ]
  },
  {
   "cell_type": "markdown",
   "id": "84fa00b3",
   "metadata": {},
   "source": [
    "### Accéder aux Éléments d'un Tuple\n",
    "On accéde aux éléments d'un tuple en utilisant l'indexation par tranche. oft sur la partie d'indexation c'est tout comme la liste."
   ]
  },
  {
   "cell_type": "code",
   "execution_count": null,
   "id": "f700f685",
   "metadata": {},
   "outputs": [
    {
     "name": "stdout",
     "output_type": "stream",
     "text": [
      "('Hello', True)\n"
     ]
    }
   ],
   "source": [
    "tuple3 = (5, \"Hello\", True)\n",
    "\n",
    "# Accéder au premier élément\n",
    "element1 = tuple3[0]  # element1 = 5\n",
    "\n",
    "# Accéder au dernier élément\n",
    "element2 = tuple3[-1]  # element2 = True\n",
    "\n",
    "# Accéder à une plage d'éléments\n",
    "sous_tuple = tuple3[1:3]  # sous_tuple = (\"Hello\", True)\n",
    "\n",
    "print(sous_tuple)"
   ]
  },
  {
   "cell_type": "markdown",
   "id": "69cc9450",
   "metadata": {},
   "source": [
    "### Déballage des Tuples\n",
    "Le déballage des tuples c'est ce qui va nous permettre d'assigner des valeurs de tuple à des variables individuelles."
   ]
  },
  {
   "cell_type": "code",
   "execution_count": null,
   "id": "e22e0629",
   "metadata": {},
   "outputs": [
    {
     "name": "stdout",
     "output_type": "stream",
     "text": [
      "5\n",
      "Hello\n",
      "True\n"
     ]
    }
   ],
   "source": [
    "tuple3 = (5, \"Hello\", True)\n",
    "\n",
    "a, b, c = tuple3  # a = 5, b = \"Hello\", c = True\n",
    "\n",
    "print(a)\n",
    "print(b)\n",
    "print(c)"
   ]
  },
  {
   "cell_type": "markdown",
   "id": "3bb8b7d0",
   "metadata": {},
   "source": [
    "### Opérations sur les Tuples\n",
    "Les tuples prennent en charge plusieurs opérations, dont :\n",
    "* Concrétion: il s'agit de la convertir d'un tuple en une liste mutable.\n",
    "* Comparaison: Comparer deux tuples pour déterminer l'égalité ou l'ordre.\n",
    "* Appartenance: Vérifier si un élément appartient à un tuple.\n",
    "* Longueur: Obtenir la longueur d'un tuple."
   ]
  },
  {
   "cell_type": "code",
   "execution_count": null,
   "id": "11f58810",
   "metadata": {},
   "outputs": [
    {
     "name": "stdout",
     "output_type": "stream",
     "text": [
      "Les tuples sont égaux\n",
      "2 est dans le tuple\n"
     ]
    }
   ],
   "source": [
    "\"\"\"La coparaison entre deuxx tuples\"\"\"\n",
    "tuple1 = (1, 2, 3)\n",
    "tuple2 = (1, 2, 3)\n",
    "\n",
    "if tuple1 == tuple2:\n",
    "    print(\"Les tuples sont égaux\")\n",
    "else:\n",
    "    print(\"Les tuples sont différents\")\n",
    "\n",
    "\"\"\"L'appartenance\"\"\"\n",
    "if 2 in tuple1:\n",
    "    print(\"2 est dans le tuple\")\n",
    "else:\n",
    "    print(\"2 n'est pas dans le tuple\")\n",
    "    \n",
    "\"\"\"Longueur d'un tuple\"\"\"\n",
    "longueur = len(tuple1)\n",
    "\n",
    "\"\"\"Concrétion d'un tuple\"\"\"\n",
    "liste1 = list(tuple1)  # liste1 = [1, 2, 3]"
   ]
  },
  {
   "cell_type": "markdown",
   "id": "7e365d29",
   "metadata": {},
   "source": [
    "#### Tuples Imbriqués\n",
    "Les tuples peuvent contenir d'autres tuples, qui permet de créer ainsi des structures de données hiérarchiques"
   ]
  },
  {
   "cell_type": "code",
   "execution_count": null,
   "id": "4d738cb4",
   "metadata": {},
   "outputs": [],
   "source": [
    "tuple1 = (1, 2, (3, 4))\n",
    "# Accéder à l'élément imbriqué\n",
    "element_imbrique = tuple1[2][1]  # element_imbrique = 4"
   ]
  }
 ],
 "metadata": {
  "kernelspec": {
   "display_name": "Python 3 (ipykernel)",
   "language": "python",
   "name": "python3"
  },
  "language_info": {
   "codemirror_mode": {
    "name": "ipython",
    "version": 3
   },
   "file_extension": ".py",
   "mimetype": "text/x-python",
   "name": "python",
   "nbconvert_exporter": "python",
   "pygments_lexer": "ipython3",
   "version": "3.9.6"
  }
 },
 "nbformat": 4,
 "nbformat_minor": 5
}
