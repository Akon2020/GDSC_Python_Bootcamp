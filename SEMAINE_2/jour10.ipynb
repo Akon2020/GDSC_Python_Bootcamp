{
 "cells": [
  {
   "cell_type": "markdown",
   "id": "fd9ed8df",
   "metadata": {},
   "source": [
    "# Jour 10: Manipulation des listes et des dictionnaires\n",
    "## 1. Introduction aux compréhensions de listes\n",
    "Imagine on a une liste de nombres et que nous souhaitons en créer une nouvelle liste à partir d'elle, en appliquant une opération à chaque élément. Pour bien le faire nous devons d'abord comprendre les listes surtout la partie comment les manipuler ?. C'est avec la même comprehension qui va nous permettent de créer de nouvelles listes de manière concise et efficace, sans avoir recours à des boucles for classiques.\n",
    "\n",
    "#### Syntaxe de base"
   ]
  },
  {
   "cell_type": "code",
   "execution_count": 3,
   "id": "55ded43d",
   "metadata": {},
   "outputs": [],
   "source": [
    "iteration = []\n",
    "for element in iteration:\n",
    "    if condition :\n",
    "        pass"
   ]
  },
  {
   "cell_type": "markdown",
   "id": "b817b4d3",
   "metadata": {},
   "source": [
    "* for element in iterable : Parcourt la liste d'origine, élément par élément. Ici, element représente chaque élément de la liste iteration tour à tour.\n",
    "* if condition (optionnel) : Permet de filtrer les éléments de la liste. Seuls les éléments pour lesquels la condition est vraie seront inclus dans la nouvelle liste.\n",
    "\n",
    "Faisons un exemple qui va permettre de mieux comprendre la syntaxe de base.\n",
    "\n",
    "Exemple 1 : Nous allons essayer de nombres de 1 à 20 qui sont pairs "
   ]
  },
  {
   "cell_type": "code",
   "execution_count": 5,
   "id": "d2485ccb",
   "metadata": {},
   "outputs": [
    {
     "name": "stdout",
     "output_type": "stream",
     "text": [
      "la liste de carrés de nombres pairs est : [4, 16, 36, 64, 100, 144, 196, 256, 324, 400] \n"
     ]
    }
   ],
   "source": [
    "# Solution\n",
    "nombres_pairs_carres = []  # Initialisation d'une liste vide pour stocker les carrés des nombres pairs\n",
    "\n",
    "for nombre in range(1, 21):  # Boucle for pour parcourir les nombres de 1 à 20 (inclus)\n",
    "    if nombre % 2 == 0:  # Vérification si le nombre est pair\n",
    "        carre = nombre * nombre  # Calcul du carré du nombre pair\n",
    "        nombres_pairs_carres.append(carre)  # Ajout du carré à la liste\n",
    "        \n",
    "print(f\"La liste des carrés des nombres pairs est : {nombres_pairs_carres}\")  # Affichage de la liste"
   ]
  },
  {
   "cell_type": "markdown",
   "id": "17c1f6cf",
   "metadata": {},
   "source": [
    "**Explication du code**\n",
    "\n",
    "1. Initialisation de la liste :\n",
    "La ligne **nombres_pairs_carres = []** crée une liste nommée **nombres_pairs_carres**. Cette liste est initialement vide.\n",
    "2. Boucle for pour parcourir les nombres :\n",
    "La ligne **for nombre in range(1, 21)** initialise une boucle for qui s'exécutera 20 fois, une fois pour chaque nombre de 1 à 20 (inclus).\n",
    "A chaque itération de la boucle, la variable nombre prend la valeur d'un nombre dans cette plage. Par exemple, lors de la première itération, nombre sera 1, lors de la deuxième itération, nombre sera 2, et ainsi de suite.\n",
    "3. Vérification si le nombre est pair :\n",
    "La ligne **if nombre % 2 == 0:** utilise l'opérateur modulo **(%)** pour vérifier si le nombre actuel (nombre) est divisible par 2. Si le reste de la division par 2 est égal à 0, le nombre est pair.\n",
    "4. Calcul du carré du nombre pair :\n",
    "Si le nombre est pair, **la ligne carre = nombre * nombre**, calcule le carré du nombre pair actuel (nombre). Le carré est obtenu en multipliant le nombre par lui-même.\n",
    "5. Ajout du carré à la liste :\n",
    "La ligne **nombres_pairs_carres.append(carre)** ajoute le carré calculé (carre) à la fin de la liste nombres_pairs_carres. Cela signifie que la liste contiendra de plus en plus les carrés des nombres pairs trouvés.\n",
    "6. Affichage de la liste des carrés des nombres pairs"
   ]
  },
  {
   "cell_type": "markdown",
   "id": "49026515",
   "metadata": {},
   "source": [
    "Exemple 2 : Extraire les voyelles d'une chaîne de caractères"
   ]
  },
  {
   "cell_type": "code",
   "execution_count": null,
   "id": "88f21db8",
   "metadata": {},
   "outputs": [],
   "source": [
    "chaines_de_caractères = \"Bonjour à tous\"  # Chaîne de caractères à analyser\n",
    "voyelles = \"aeiouAEIOUàéïù\"  # Liste des voyelles à rechercher\n",
    "voyelles_de_la_chaine = []  # Liste pour stocker les voyelles trouvées\n",
    "\n",
    "for lettre in chaines_de_caractères:  # Boucle for pour parcourir chaque lettre de la chaîne\n",
    "    for voyelle in voyelles:  # Boucle for imbriquée pour parcourir chaque voyelle\n",
    "        if lettre == voyelle:  # Comparaison de la lettre actuelle avec chaque voyelle\n",
    "            voyelles_de_la_chaine.append(voyelle)  # Ajout de la voyelle trouvée à la liste\n",
    "\n",
    "print(voyelles_de_la_chaine)  # Affichage de la liste des voyelles extraites"
   ]
  },
  {
   "cell_type": "markdown",
   "id": "ae8ff9b2",
   "metadata": {},
   "source": [
    "### 2. Créer de nouvelles listes à partir de listes existantes (30 minutes)\n",
    "a) Multiplier chaque élément d'une liste par un nombre"
   ]
  },
  {
   "cell_type": "code",
   "execution_count": null,
   "id": "930f5e2e",
   "metadata": {},
   "outputs": [],
   "source": [
    "liste_nombres = [1, 2, 3, 4, 5]  # Liste de nombres à traiter\n",
    "double_liste_nombres = []  # Liste pour stocker les nombres doublés\n",
    "\n",
    "for nombre in liste_nombres:  # Boucle for pour parcourir chaque nombre de la liste\n",
    "    double_liste_nombres.append(nombre * 2)  # Ajout du double de chaque nombre à la nouvelle liste\n",
    "\n",
    "print(double_liste_nombres)  # Affichage de la liste des nombres doublés"
   ]
  },
  {
   "cell_type": "markdown",
   "id": "c91a78d3",
   "metadata": {},
   "source": [
    "b) Extraire des sous-chaînes de chaînes de caractères"
   ]
  },
  {
   "cell_type": "code",
   "execution_count": null,
   "id": "ccd9e059",
   "metadata": {},
   "outputs": [],
   "source": [
    "liste_noms = [\"Docta\", \"Abraham\", \"Faith\"]  # Liste de noms à utiliser\n",
    "liste_acronymes = []  # Liste pour stocker les acronymes\n",
    "\n",
    "for nom in liste_noms:  # Boucle for pour parcourir chaque nom\n",
    "    premier_caractere = nom[0]  # Extraire le premier caractère du nom\n",
    "    liste_acronymes.append(premier_caractere)  # Ajouter le premier caractère à la liste des acronymes\n",
    "\n",
    "print(liste_acronymes)  # Affichage de la liste des acronymes"
   ]
  },
  {
   "cell_type": "markdown",
   "id": "030f08ff",
   "metadata": {},
   "source": [
    "c) Sélectionner des éléments d'une liste en fonction d'une condition"
   ]
  },
  {
   "cell_type": "code",
   "execution_count": null,
   "id": "97bbfe80",
   "metadata": {},
   "outputs": [],
   "source": [
    "liste_nombres = [1, 2, 3, 4, 5, 6, 7, 8, 9, 10]  # Liste de nombres à analyser\n",
    "liste_nombres_pairs = []  # Liste pour stocker les nombres pairs trouvés\n",
    "\n",
    "for nombre in liste_nombres:  # Boucle for pour parcourir chaque nombre de la liste\n",
    "    if nombre % 2 == 0:  # Vérification si le nombre est pair\n",
    "        liste_nombres_pairs.append(nombre)  # Ajout du nombre pair à la liste\n",
    "\n",
    "print(liste_nombres_pairs)  # Affichage de la liste des nombres pairs"
   ]
  },
  {
   "cell_type": "markdown",
   "id": "755d6374",
   "metadata": {},
   "source": [
    "## Exercices pratiques\n",
    "Essayer de résoudre les exercices suivants pour mettre en pratique les concepts de compréhensions de listes que vous venez d'apprendre :\n",
    "\n",
    "**Exercice 1** : Créer une liste contenant les longueurs des chaînes de caractères d'une liste de mots.\n",
    "\n",
    "**Exercice 2** : Créer une liste contenant uniquement les nombres positifs d'une liste de nombres entiers.\n",
    "\n",
    "**Exercice 3** : Créer une liste contenant les éléments d'une liste en majuscule.\n",
    "\n",
    "## Résolutions de exercices"
   ]
  },
  {
   "cell_type": "code",
   "execution_count": null,
   "id": "80305c48",
   "metadata": {},
   "outputs": [],
   "source": [
    "# Exercices 1\n",
    "mots = [\"chien\", \"chat\", \"oiseau\", \"poisson\"] # Liste de mots\n",
    "longueurs_mots = [] # Liste pour stocker les longueurs des mots\n",
    "\n",
    "# Parcourir la liste des mots\n",
    "for mot in mots:\n",
    "    longueur_mot = len(mot) # Obtenir la longueur du mot actuel\n",
    "    # Ajouter la longueur du mot actuel à la liste des longueurs\n",
    "    longueurs_mots.append(longueur_mot)\n",
    "print(longueurs_mots)  # Résultat: [5, 4, 6, 7]"
   ]
  },
  {
   "cell_type": "code",
   "execution_count": null,
   "id": "36ac6b70",
   "metadata": {},
   "outputs": [],
   "source": [
    "nombres = [5, -3, 0, 2, -1, 7, -4] # Liste de nombres entiers\n",
    "nombres_positifs = [] # Liste pour stocker les nombres positifs\n",
    "\n",
    "# Parcourir la liste des nombres\n",
    "for nombre in nombres:\n",
    "    if nombre > 0: # Vérifier si le nombre est positif\n",
    "        # Ajouter le nombre positif à la liste\n",
    "        nombres_positifs.append(nombre)\n",
    "\n",
    "print(nombres_positifs)  # Résultat: [5, 2, 7]"
   ]
  },
  {
   "cell_type": "code",
   "execution_count": null,
   "id": "14f744c8",
   "metadata": {},
   "outputs": [],
   "source": [
    "chaines = [\"python\", \"programmation\", \"algorithme\"] # Liste de chaînes de caractères\n",
    "chaines_majuscules = [] # Liste pour stocker les chaînes en majuscule\n",
    "\n",
    "for chaine in chaines: # Parcourir la liste des chaînes\n",
    "    chaine_majuscule = chaine.upper() # Convertir la chaîne actuelle en majuscule\n",
    "\n",
    "    # Ajouter la chaîne en majuscule à la liste\n",
    "    chaines_majuscules.append(chaine_majuscule)\n",
    "\n",
    "print(chaines_majuscules)  # Résultat: ['PYTHON', 'PROGRAMMATION', 'ALGORITHME']\n"
   ]
  },
  {
   "cell_type": "markdown",
   "id": "2aeea845",
   "metadata": {},
   "source": [
    "## 2. Compréhensions de dictionnaires\n",
    "### a) Introduction aux compréhensions de dictionnaires\n",
    "Imaginons un dictionnaire et que nous souhaitez en créer un nouveau à partir d'elle, en transformant les clés ou les valeurs. \n",
    "\n",
    "Exemple 1 : Créer un dictionnaire avec les carrés des nombres de 1 à 10 comme clés et leurs valeurs respectives"
   ]
  },
  {
   "cell_type": "code",
   "execution_count": null,
   "id": "ebab37ba",
   "metadata": {},
   "outputs": [],
   "source": [
    "# Création d'un dictionnaire vide\n",
    "nombres_carres = {}\n",
    "\n",
    "# Boucle for pour parcourir les nombres de 1 à 10\n",
    "for n in range(1, 11):\n",
    "  # Calcul du carré du nombre\n",
    "  carre = n * n\n",
    "  # Ajout du carré comme clé et du nombre comme valeur dans le dictionnaire\n",
    "  nombres_carres[n] = carre\n",
    "\n",
    "# Affichage du dictionnaire\n",
    "print(nombres_carres)"
   ]
  },
  {
   "cell_type": "markdown",
   "id": "becd557c",
   "metadata": {},
   "source": [
    "Exemple 2 : Extraire les prénoms et les âges d'un dictionnaire d'étudiants"
   ]
  },
  {
   "cell_type": "code",
   "execution_count": null,
   "id": "03ec9094",
   "metadata": {},
   "outputs": [],
   "source": [
    "etudiants = {\"Alice\": 25, \"Bob\": 30, \"Charlie\": 22}  # Dictionnaire des étudiants et de leurs âges\n",
    "prenoms_ages = {}  # Dictionnaire vide pour stocker les paires prénoms-âges\n",
    "\n",
    "for prenom, age in etudiants.items():  # Boucle for pour parcourir les paires clé-valeur du dictionnaire\n",
    "    prenoms_ages[prenom] = age  # Ajout de la paire prénoms-âges au nouveau dictionnaire\n",
    "\n",
    "print(prenoms_ages)  # Affichage du dictionnaire des prénoms et des âges"
   ]
  },
  {
   "cell_type": "markdown",
   "id": "12befc80",
   "metadata": {},
   "source": [
    "### b) Créer de nouveaux dictionnaires à partir de listes existantes\n",
    "a) Générer des dictionnaires avec des clés et des valeurs provenant d'une liste : Nous allons créer un dictionnaire à partir des éléments d'une liste.\n",
    "\n",
    "Exemple : créons un dictionnaire à partir des éléments d'une liste qui sont de valeurs, les clés du dictionnaire seront des valeurs de la liste et les valeurs du dictionnaire seront soit **Impaire ou paire** dépendant de la clé.\n"
   ]
  },
  {
   "cell_type": "code",
   "execution_count": null,
   "id": "bf047ee6",
   "metadata": {},
   "outputs": [],
   "source": [
    "nombres = [1, 2, 3, 4, 5]  # Liste de nombres à classifier\n",
    "nombres_pairs_impairs = {}  # Dictionnaire pour stocker la classification (Pair/Impair)\n",
    "\n",
    "for nombre in nombres:  # Boucle for pour parcourir chaque nombre de la liste\n",
    "    if nombre % 2 == 0:  # Vérification si le nombre est pair\n",
    "        nombres_pairs_impairs[nombre] = \"Pair\"  # Classification du nombre pair\n",
    "    else:\n",
    "        nombres_pairs_impairs[nombre] = \"Impair\"  # Classification du nombre impair\n",
    "\n",
    "print(nombres_pairs_impairs)  # Affichage du dictionnaire avec les classifications"
   ]
  },
  {
   "cell_type": "markdown",
   "id": "88f135bf",
   "metadata": {},
   "source": [
    "b) Transformer les clés ou les valeurs d'un dictionnaire existant : Comme illustration qu'on va essayer de faire c'est de créer un exemple des dictionnaires des fruits, puis créer un dictionnaire à partir de lui qui va mettre les clés en majuscules en utilisant la méthode **upper()**. "
   ]
  },
  {
   "cell_type": "code",
   "execution_count": null,
   "id": "de6d113c",
   "metadata": {},
   "outputs": [],
   "source": [
    "fruits = {\"Pomme\": \"rouge\", \"Banane\": \"jaune\", \"Orange\": \"orange\"}\n",
    "fruits_majuscules = {}\n",
    "for fruit, couleur in fruits.items():\n",
    "    fruits_majuscules[fruit.upper()] = couleur\n",
    "print(fruits_majuscules)  # Résultat : {'POMME': 'rouge', 'BANANE': 'jaune', 'ORANGE': 'orange'}"
   ]
  },
  {
   "cell_type": "markdown",
   "id": "9084575e",
   "metadata": {},
   "source": [
    "c) Créer de dictionnaire à partir de deux listes (clés et valeurs) : Nous allons créer le dictionnaire à partir des deux listes, notre exemple se base de création d'un dictionnaire à partir de deux listes dont soit un possède ds clés et l'autre possède des valeurs du dictionnaire."
   ]
  },
  {
   "cell_type": "code",
   "execution_count": null,
   "id": "95df4ec3",
   "metadata": {},
   "outputs": [],
   "source": [
    "# Initialiser des listes pour stocker les noms et les âges des étudiants\n",
    "prenoms = [\"Alice\", \"Bob\", \"Charlie\"]\n",
    "ages = [25, 30, 22]\n",
    "# Créer un dictionnaire vide pour stocker les informations des étudiants\n",
    "etudiants_dict = {}\n",
    "# Initialiser un index pour parcourir la liste des âges\n",
    "index = 0\n",
    "# Parcourir la liste des prénoms avec une boucle for\n",
    "for prenom in prenoms:\n",
    "  # Ajouter une entrée au dictionnaire avec le prénom comme clé\n",
    "  # et l'âge correspondant de la liste des âges comme valeur\n",
    "  etudiants_dict[prenom] = ages[index]\n",
    "  # Incrémenter l'index pour pointer vers l'âge suivant\n",
    "  index += 1\n",
    "\n",
    "print(etudiants_dict)  # Resultats: {'Alice': 25, 'Bob': 30, 'Charlie': 22}\n"
   ]
  },
  {
   "cell_type": "markdown",
   "id": "bc527a6d",
   "metadata": {},
   "source": [
    "Même exemple en utilisant la méthode **zip** qui va nous permettre de combiner les deux listes à la fois n paires, nous pouvons simplifier le code de la manière suivante :"
   ]
  },
  {
   "cell_type": "code",
   "execution_count": null,
   "id": "d8c333ea",
   "metadata": {},
   "outputs": [],
   "source": [
    "prenoms = [\"Alice\", \"Bob\", \"Charlie\"]\n",
    "ages = [25, 30, 22]\n",
    "etudiants_dict = {}\n",
    "for prenom, age in zip(prenoms, ages):\n",
    "    etudiants_dict[prenom] = age\n",
    "print(etudiants_dict)  # Résultat : {'Alice': 25, 'Bob': 30, 'Charlie': 22}"
   ]
  },
  {
   "cell_type": "markdown",
   "id": "65098197",
   "metadata": {},
   "source": [
    "## 3. Exercices pratiques\n",
    "Nous allons Essayer de résoudre les exercices suivants pour mettre de pratiquer les concepts de compréhensions de dictionnaires que nous venez d'apprendre :\n",
    "\n",
    "**Exercice 1** : Créer un dictionnaire contenant le nombre d'occurrences de chaque lettre dans une chaîne de caractères.\n",
    "\n",
    "**Exercice 2** : Créer un dictionnaire contenant les carrés des nombres d'une liste, en excluant les nombres négatifs.\n",
    "\n",
    "**Exercice 3** : Créer un dictionnaire contenant les éléments d'une liste en tant que clés et leurs longueurs en tant que valeurs.\n",
    "\n",
    "## Résolution des exercices"
   ]
  },
  {
   "cell_type": "code",
   "execution_count": null,
   "id": "6ae8b8da",
   "metadata": {},
   "outputs": [],
   "source": [
    "# Exercice 1\n",
    "# Chaîne de caractères\n",
    "chaine = \"Ceci est une chaîne de caractères pour l'exercice 1.\"\n",
    "\n",
    "# Initialiser un dictionnaire vide pour stocker les occurrences\n",
    "occurrences_lettres = {}\n",
    "\n",
    "# Convertir la chaîne en minuscules pour une comparaison uniforme\n",
    "chaine_minuscule = chaine.lower()\n",
    "\n",
    "# Parcourir chaque caractère de la chaîne\n",
    "for lettre in chaine_minuscule:\n",
    "    # Vérifier si la lettre est dans le dictionnaire\n",
    "    if lettre in occurrences_lettres:\n",
    "        # Incrémenter le compteur d'occurrences existant\n",
    "        occurrences_lettres[lettre] += 1\n",
    "    else:\n",
    "        # Initialiser le compteur d'occurrences pour la nouvelle lettre\n",
    "        occurrences_lettres[lettre] = 1\n",
    "\n",
    "# Afficher le dictionnaire des occurrences\n",
    "print(occurrences_lettres)  # Résultat: {'c': 3, 'e': 4, 'i': 6, 's': 2, 't': 3, ' ': 9, ...}"
   ]
  },
  {
   "cell_type": "markdown",
   "id": "7fc38f0e",
   "metadata": {},
   "source": [
    "### Exercices 2 et 3 c'est presque déjà fait selon les solutions des exemples de la comprehension des dictionnaires.\n",
    "# Projet : Gestionnaire de Contacts\n",
    "nous allons devoir créer une application en console qui permettant d'ajouter, de supprimer, de rechercher et de modifier des contacts à l'aide de la comprehension des listes ou soit des dictionnaires.\n",
    "### LA SOLUTION DU PROJET DEPENDANT SURTOUT AVEC LES LISTES"
   ]
  },
  {
   "cell_type": "code",
   "execution_count": null,
   "id": "d6fbbc3c",
   "metadata": {},
   "outputs": [],
   "source": [
    "# Liste pour stocker les contacts (sous forme de listes)\n",
    "contacts = []\n",
    "\n",
    "# Fonction pour afficher la liste des contacts\n",
    "def afficher_contacts():\n",
    "    if contacts:\n",
    "        print(\"\\nListe des contacts :\")\n",
    "        for index, contact in enumerate(contacts):\n",
    "            print(f\"{index + 1}. {' '.join(contact)}\")  # Affichage du nom et du prénom\n",
    "    else:\n",
    "        print(\" Aucun contact trouvé.\")\n",
    "\n",
    "# Fonction pour ajouter un nouveau contact\n",
    "def ajouter_contact():\n",
    "    nouveau_nom = input(\"Entrez le nom du contact : \")\n",
    "    nouveau_prenom = input(\"Entrez le prénom du contact : \")\n",
    "    contacts.append([nouveau_nom, nouveau_prenom])  # Ajouter à la liste\n",
    "    print(\"Contact ajouté avec succès !\")\n",
    "\n",
    "# Fonction pour supprimer un contact\n",
    "def supprimer_contact():\n",
    "    if contacts:\n",
    "        afficher_contacts()\n",
    "        index_a_supprimer = int(input(\"Entrez le numéro du contact à supprimer : \")) - 1\n",
    "        if 0 <= index_a_supprimer < len(contacts):\n",
    "            del contacts[index_a_supprimer]\n",
    "            print(\"Contact supprimé avec succès !\")\n",
    "        else:\n",
    "            print(\"Numéro de contact invalide.\")\n",
    "    else:\n",
    "        print(\"Aucun contact trouvé.\")\n",
    "\n",
    "# Fonction pour rechercher un contact\n",
    "def rechercher_contact():\n",
    "    if contacts:\n",
    "        nom_recherche = input(\"Entrez le nom du contact à rechercher : \")\n",
    "        contacts_trouves = []\n",
    "        for contact in contacts :\n",
    "            if nom_recherche.lower() in contact[0].lower() or nom_recherche.lower() in contact[1].lower() :\n",
    "                contacts_trouves.append(contact)\n",
    "        if contacts_trouves:\n",
    "            print(f\"\\nRésultat de la recherche pour '{nom_recherche}' :\")\n",
    "            for index, contact in enumerate(contacts_trouves):\n",
    "                print(f\"{index + 1}. {' '.join(contact)}\")\n",
    "        else:\n",
    "            print(f\"Aucun contact trouvé pour '{nom_recherche}'.\")\n",
    "    else:\n",
    "        print(\"Aucun contact trouvé.\")\n",
    "\n",
    "def modifier_contact():\n",
    "    if contacts:\n",
    "        afficher_contacts()\n",
    "        index_a_modifier = int(input(\"Entrez le numéro du contact à modifier : \")) - 1\n",
    "        if 0 <= index_a_modifier < len(contacts):\n",
    "            contact_a_modifier = contacts[index_a_modifier]\n",
    "            print(f\"\\nModification du contact {' '.join(contact_a_modifier)}\")\n",
    "            nouveau_nom = input(\"Entrez le nouveau nom (ou laissez vide pour conserver) : \") or contact_a_modifier[0]\n",
    "            nouveau_prenom = input(\"Entrez le nouveau prénom (ou laissez vide pour conserver) : \") or contact_a_modifier[1]\n",
    "            contacts[index_a_modifier] = [nouveau_nom, nouveau_prenom]\n",
    "            print(\"Contact modifié avec succès !\")\n",
    "        else:\n",
    "            print(\"Numéro de contact invalide.\")\n",
    "    else:\n",
    "        print(\"Aucun contact trouvé.\")\n",
    "\n",
    "# Menu principal et boucle d'exécution\n",
    "while True:\n",
    "    print(\"\\nMenu Gestion de Contacts\")\n",
    "    print(\"1. Afficher la liste des contacts\")\n",
    "    print(\"2. Ajouter un nouveau contact\")\n",
    "    print(\"3. Supprimer un contact\")\n",
    "    print(\"4. Rechercher un contact\")\n",
    "    print(\"5. Modifier un contact\")\n",
    "    print(\"6. Quitter\")\n",
    "\n",
    "    choix = input(\"Entrez votre choix (1-6) : \")\n",
    "\n",
    "    # Validation du choix de l'utilisateur\n",
    "    if not (1 <= int(choix) <= 6):\n",
    "        print(\"Choix invalide. Veuillez entrer un numéro entre 1 et 6.\")\n",
    "        continue\n",
    "    choix = int(choix)\n",
    "\n",
    "    # Traitement du choix de l'utilisateur\n",
    "    if choix == 1:\n",
    "        afficher_contacts()\n",
    "    elif choix == 2:\n",
    "        ajouter_contact()\n",
    "    elif choix == 3:\n",
    "        supprimer_contact()\n",
    "    elif choix == 4:\n",
    "        rechercher_contact()\n",
    "    elif choix == 5:\n",
    "        modifier_contact()\n",
    "    else:\n",
    "        print(\"Merci d'avoir utilisé l'application de gestion de contacts !\")\n",
    "        break"
   ]
  },
  {
   "cell_type": "markdown",
   "id": "707f0a18",
   "metadata": {},
   "source": [
    "### LA SOLUTION DU PROJET DEPENDANT SURTOUT AVEC LES DICTIONNAIRES"
   ]
  },
  {
   "cell_type": "code",
   "execution_count": null,
   "id": "d2437913",
   "metadata": {},
   "outputs": [],
   "source": [
    "# Dictionnaire pour stocker les contacts (clé = identifiant unique, valeur = dictionnaire de détails)\n",
    "contacts = {}\n",
    "\n",
    "# Fonction pour afficher la liste des contacts\n",
    "def afficher_contacts():\n",
    "    if contacts:\n",
    "        print(\"\\nListe des contacts :\")\n",
    "        for id_contact, contact_details in contacts.items():\n",
    "            print(f\"{id_contact}. {contact_details['Nom']} {contact_details['Prenom']}\")\n",
    "    else:\n",
    "        print(\"Aucun contact trouvé.\")\n",
    "\n",
    "# Fonction pour ajouter un nouveau contact\n",
    "def ajouter_contact():\n",
    "    nouveau_nom = input(\"Entrez le nom du contact : \")\n",
    "    nouveau_prenom = input(\"Entrez le prénom du contact : \")\n",
    "    nouveau_numero = input(\"Entrez le numéro de téléphone (facultatif) : \")\n",
    "    nouveau_email = input(\"Entrez l'adresse email (facultatif) : \")\n",
    "\n",
    "    # Génération d'un identifiant unique (pour éviter les doublons)\n",
    "    id_unique = len(contacts) + 1\n",
    "\n",
    "    # Création du dictionnaire de détails du contact\n",
    "    nouveau_contact = {\n",
    "        \"Nom\": nouveau_nom,\n",
    "        \"Prenom\": nouveau_prenom,\n",
    "        \"Numéro\": nouveau_numero,\n",
    "        \"Email\": nouveau_email,\n",
    "    }\n",
    "\n",
    "    # Ajout du contact au dictionnaire principal avec l'identifiant unique comme clé\n",
    "    contacts[id_unique] = nouveau_contact\n",
    "\n",
    "    print(\"Contact ajouté avec succès !\")\n",
    "\n",
    "# Fonction pour supprimer un contact\n",
    "def supprimer_contact():\n",
    "    if contacts:\n",
    "        afficher_contacts()\n",
    "        id_contact_a_supprimer = int(input(\"Entrez l'identifiant du contact à supprimer : \"))\n",
    "        if id_contact_a_supprimer in contacts:\n",
    "            del contacts[id_contact_a_supprimer]\n",
    "            print(\"Contact supprimé avec succès !\")\n",
    "        else:\n",
    "            print(\"Identifiant de contact invalide.\")\n",
    "    else:\n",
    "        print(\"Aucun contact trouvé.\")\n",
    "\n",
    "# Fonction pour rechercher un contact\n",
    "def rechercher_contact():\n",
    "    if contacts:\n",
    "        nom_recherche = input(\"Entrez le nom du contact à rechercher : \")\n",
    "        contacts_trouves = []\n",
    "        for id_contact, contact_details in contacts.items():\n",
    "            if nom_recherche.lower() in contact_details[\"Nom\"].lower() or nom_recherche.lower() in contact_details[\"Prenom\"].lower():\n",
    "                contacts_trouves.append(id_contact)\n",
    "\n",
    "        if contacts_trouves:\n",
    "            print(f\"\\nRésultat de la recherche pour '{nom_recherche}' :\")\n",
    "            for id_contact in contacts_trouves:\n",
    "                print(f\"{id_contact}. {contacts[id_contact]['Nom']} {contacts[id_contact]['Prenom']}\")\n",
    "        else:\n",
    "            print(f\"Aucun contact trouvé pour '{nom_recherche}'.\")\n",
    "    else:\n",
    "        print(\"Aucun contact trouvé.\")\n",
    "\n",
    "# Fonction pour modifier un contact\n",
    "def modifier_contact():\n",
    "    if contacts:\n",
    "        afficher_contacts()\n",
    "        id_contact_a_modifier = int(input(\"Entrez l'identifiant du contact à modifier : \"))\n",
    "        if id_contact_a_modifier in contacts:\n",
    "            contact_a_modifier = contacts[id_contact_a_modifier]\n",
    "            print(f\"\\nModification du contact {contact_a_modifier['Nom']} {contact_a_modifier['Prenom']}\")\n",
    "            nouveau_nom = input(\"Entrez le nouveau nom (ou laissez vide pour conserver) : \") or contact_a_modifier[\"Nom\"]\n",
    "            nouveau_prenom = input(\"Entrez le nouveau prénom (ou laissez vide pour conserver) : \") or contact_a_modifier[\"Prenom\"]\n",
    "            nouveau_numero = input(\"Entrez le nouveau numéro de téléphone (ou laissez vide pour conserver) : \") or contact_a_modifier[\"Numéro\"]\n",
    "            nouveau_email = input(\"Entrez la nouvelle adresse email (ou laissez vide pour conserver) : \") or contact_a_modifier[\"Email\"]\n",
    "\n",
    "            # Mise à jour du dictionnaire de détails du contact\n",
    "            contacts[id_contact_a_modifier] = {\n",
    "            \"Nom\": nouveau_nom,\n",
    "            \"Prenom\": nouveau_prenom,\n",
    "            \"Numéro\": nouveau_numero,\n",
    "            \"Email\": nouveau_email,\n",
    "        }\n",
    "\n",
    "            print(\"Contact modifié avec succès !\")\n",
    "        else:\n",
    "            print(\"Identifiant de contact invalide.\")\n",
    "    else:\n",
    "        print(\"Aucun contact trouvé. \")\n",
    "\n",
    "\n",
    "# Menu principal et boucle d'exécution\n",
    "while True:\n",
    "    print(\"\\nMenu Gestion de Contacts\")\n",
    "    print(\"1. Afficher la liste des contacts\")\n",
    "    print(\"2. Ajouter un nouveau contact\")\n",
    "    print(\"3. Supprimer un contact\")\n",
    "    print(\"4. Rechercher un contact\")\n",
    "    print(\"5. Modifier un contact\")\n",
    "    print(\"6. Quitter\")\n",
    "\n",
    "    choix = input(\"Entrez votre choix (1-6) : \")\n",
    "\n",
    "    # Validation du choix de l'utilisateur\n",
    "    if not (1 <= int(choix) <= 6):\n",
    "        print(\"Choix invalide. Veuillez entrer un numéro entre 1 et 6.\")\n",
    "        continue\n",
    "    choix = int(choix)\n",
    "\n",
    "    # Traitement du choix de l'utilisateur\n",
    "    if choix == 1:\n",
    "        afficher_contacts()\n",
    "    elif choix == 2:\n",
    "        ajouter_contact()\n",
    "    elif choix == 3:\n",
    "        supprimer_contact()\n",
    "    elif choix == 4:\n",
    "        rechercher_contact()\n",
    "    elif choix == 5:\n",
    "        modifier_contact()\n",
    "    else:\n",
    "        print(\"Merci d'avoir utilisé l'application de gestion de contacts !\")\n",
    "        break"
   ]
  }
 ],
 "metadata": {
  "kernelspec": {
   "display_name": "Python 3 (ipykernel)",
   "language": "python",
   "name": "python3"
  },
  "language_info": {
   "codemirror_mode": {
    "name": "ipython",
    "version": 3
   },
   "file_extension": ".py",
   "mimetype": "text/x-python",
   "name": "python",
   "nbconvert_exporter": "python",
   "pygments_lexer": "ipython3",
   "version": "3.11.3"
  }
 },
 "nbformat": 4,
 "nbformat_minor": 5
}
