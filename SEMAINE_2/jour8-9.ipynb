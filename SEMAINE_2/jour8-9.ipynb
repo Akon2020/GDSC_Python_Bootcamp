{
 "cells": [
  {
   "cell_type": "markdown",
   "id": "d78b0d6e",
   "metadata": {},
   "source": [
    "# Jour 8-9\n",
    "# Set et Dictionnaires\n",
    "## 1. Les Sets\n",
    "Les sets sont des structures de données uniques et non ordonnées qui stockent des éléments distincts. on les utilisent souvent pour stocker des collections d'éléments uniques, éliminer les doublons et effectuer des opérations de comparaison efficaces. Les sets sont presque similaires aux dictionnaires car eux ne stockent que les clés et non les valeurs associées. il a comme caractéristiques :\n",
    "* Unicité : Les sets garantissent que chaque élément n'apparaît qu'une seule fois.\n",
    "* Performance : Les sets sont généralement plus performants que les listes pour certaines opérations comme la recherche et la vérification de l'appartenance.\n",
    "* Opérations efficaces : Les sets prennent en charge des opérations de comparaison et de combinaison efficaces.\n",
    "\n",
    "### Compréhension sur les sets\n",
    "#### 1. Création de Sets\n",
    "Les sets en Python sont créés à l'aide des accolades {} et en séparant les éléments par des virgules. Il n'y a pas d'ordre dans les sets et les doublons sont automatiquement supprimés."
   ]
  },
  {
   "cell_type": "code",
   "execution_count": 1,
   "id": "c22ec80b",
   "metadata": {},
   "outputs": [],
   "source": [
    "# Set vide\n",
    "set1 = set()\n",
    "\n",
    "# Set avec quelques éléments\n",
    "set2 = {1, 2, 3, \"Hello\"}\n",
    "\n",
    "# Set à partir d'une liste\n",
    "set3 = set([4, 5, 6, \"Python\"]) # Conversion de la liste en set"
   ]
  },
  {
   "cell_type": "markdown",
   "id": "5fb70868",
   "metadata": {},
   "source": [
    "#### 2.  Accés aux Éléments d'un Set\n",
    "Avec Set il n'y a pas d'indexation directe pour accéder aux éléments; l'ordre d'itération sur les éléments d'un set n'est pas défini, on ne peut pas accéder à un élément spécifique en utilisant son index. Cependant, on utiliser des boucles **for** pour parcourir les éléments d'un Set."
   ]
  },
  {
   "cell_type": "code",
   "execution_count": 6,
   "id": "834de258",
   "metadata": {
    "scrolled": false
   },
   "outputs": [
    {
     "name": "stdout",
     "output_type": "stream",
     "text": [
      "Hello\n",
      "2\n",
      "3\n",
      "1\n"
     ]
    }
   ],
   "source": [
    "set2 = {1, 2, 3, \"Hello\"}\n",
    "# Parcourir les éléments d'un set\n",
    "for element in set2:\n",
    "  print(element)"
   ]
  },
  {
   "cell_type": "markdown",
   "id": "4ab4552f",
   "metadata": {},
   "source": [
    "#### 3. Vérification si un Élément Appartient à un Set\n",
    "L'opérateur qui nous permet de faire une vérication si un élément appartient à un set c'est l'opératuer **in**. Bien qu'on peut également utiliser la méthode **issubset()** pour vérifier si un set est un sous-ensemble d'un autre set."
   ]
  },
  {
   "cell_type": "code",
   "execution_count": 9,
   "id": "11a8d174",
   "metadata": {},
   "outputs": [
    {
     "name": "stdout",
     "output_type": "stream",
     "text": [
      "4 n'est pas dans le set\n",
      "True\n"
     ]
    }
   ],
   "source": [
    "set1 = {1, 2, 3}\n",
    "set2 = {1, 2, 3, \"Hello\"}\n",
    "# Vérifier si un élément est présent\n",
    "if 4 in set2:\n",
    "  print(\"4 est dans le set\")\n",
    "else:\n",
    "  print(\"4 n'est pas dans le set\")\n",
    "\n",
    "# Vérifier si un élément est un sous-ensemble d'un autre\n",
    "print(set1.issubset(set2))"
   ]
  },
  {
   "cell_type": "markdown",
   "id": "2cadeb09",
   "metadata": {},
   "source": [
    "#### 4. Supprission des Éléments d'un Set\n",
    "pour supprimer les éléments d'un set c'est la méthode **remove()** qui va nous permettre de supprimer un élément spécifique d'un se et si l'élément n'est pas présent, une erreur sera levée. La méthode **discard()** est similaire à **remove()**, mais elle ne lève pas d'erreur si l'élément n'est pas présent."
   ]
  },
  {
   "cell_type": "code",
   "execution_count": 10,
   "id": "c5099b40",
   "metadata": {},
   "outputs": [
    {
     "name": "stdout",
     "output_type": "stream",
     "text": [
      "{'Hello', 3, 1}\n"
     ]
    },
    {
     "ename": "KeyError",
     "evalue": "4",
     "output_type": "error",
     "traceback": [
      "\u001b[1;31m---------------------------------------------------------------------------\u001b[0m",
      "\u001b[1;31mKeyError\u001b[0m                                  Traceback (most recent call last)",
      "Cell \u001b[1;32mIn[10], line 6\u001b[0m\n\u001b[0;32m      4\u001b[0m \u001b[38;5;28mprint\u001b[39m(set2)  \u001b[38;5;66;03m# {1, 3, \"Hello\"}\u001b[39;00m\n\u001b[0;32m      5\u001b[0m \u001b[38;5;66;03m# Supprimer un élément absent (provoque une erreur)\u001b[39;00m\n\u001b[1;32m----> 6\u001b[0m set2\u001b[38;5;241m.\u001b[39mremove(\u001b[38;5;241m4\u001b[39m)\n",
      "\u001b[1;31mKeyError\u001b[0m: 4"
     ]
    }
   ],
   "source": [
    "set2 = {1, 2, 3, \"Hello\"}\n",
    "# Supprimer un élément\n",
    "set2.remove(2)\n",
    "print(set2)  # {1, 3, \"Hello\"}\n",
    "# Supprimer un élément absent (provoque une erreur)\n",
    "set2.remove(4)"
   ]
  },
  {
   "cell_type": "markdown",
   "id": "ff1821bb",
   "metadata": {},
   "source": [
    "#### 5. Opérations sur les Sets (Union, Intersection, Différence, etc.)\n",
    "Les sets prennent en charge plusieurs opérations, telles que :\n",
    "* Union: Combiner deux sets en un seul set contenant tous les éléments uniques des deux sets.*\n",
    "* Intersection: Obtenir un nouveau set contenant uniquement les éléments communs aux deux sets.\n",
    "* Différence: Obtenir un nouveau set contenant les éléments du premier set qui ne sont pas présents dans le second.\n",
    "* Différence symétrique: Obtenir un nouveau set contenant les éléments qui sont présents dans l'un des deux sets mais pas dans les deux."
   ]
  },
  {
   "cell_type": "code",
   "execution_count": 13,
   "id": "cf705388",
   "metadata": {},
   "outputs": [
    {
     "name": "stdout",
     "output_type": "stream",
     "text": [
      "{1, 2, 3, 4, 5}\n",
      "{3}\n",
      "{1, 2}\n",
      "{1, 2, 4, 5}\n"
     ]
    }
   ],
   "source": [
    "set1 = {1, 2, 3}\n",
    "set2 = {3, 4, 5}\n",
    "\n",
    "union = set1 | set2  # union = {1, 2, 3, 4, 5}\n",
    "intersection = set1 & set2  # intersection = {3}\n",
    "difference = set1 - set2  # difference = {1, 2}\n",
    "difference_symetrique = set1 ^ set2  # difference_symetrique = {1, 2, 4, 5}\n",
    "print(union)\n",
    "print(intersection)\n",
    "print(difference)\n",
    "print(difference_symetrique)"
   ]
  },
  {
   "cell_type": "markdown",
   "id": "e62ec303",
   "metadata": {},
   "source": [
    "### Fonctionnalités Avanceés des sets\n",
    "#### 1. Un sous-ensembles\n",
    "Un ensemble est dit sous-ensemble d'un autre ensemble si tous ses éléments sont également présents dans l'autre ensemble, c'est de même pour set aussi. Nous allons détecter si un élément est un sous-ensemble de l'autre en utilisant la méthode **issubset**."
   ]
  },
  {
   "cell_type": "code",
   "execution_count": 15,
   "id": "a0f20be0",
   "metadata": {},
   "outputs": [
    {
     "name": "stdout",
     "output_type": "stream",
     "text": [
      "set1 est un sous-ensemble de set2\n"
     ]
    }
   ],
   "source": [
    "set1 = {1, 2, 3}\n",
    "set2 = {1, 2, 3, 4}\n",
    "\n",
    "# Vérifier si set1 est un sous-ensemble de set2\n",
    "if set1.issubset(set2):\n",
    "  print(\"set1 est un sous-ensemble de set2\")\n",
    "else:\n",
    "  print(\"set1 n'est pas un sous-ensemble de set2\")\n"
   ]
  },
  {
   "cell_type": "markdown",
   "id": "6930ffa1",
   "metadata": {},
   "source": [
    "#### 2. Super-ensemble\n",
    "Un ensemble est dit super-ensemble d'un autre ensemble si ce dernier est un sous-ensemble du premier. Nous allons détecter si un élément est un super-ensemble de l'autre en utilisant la méthode **issuperset()**."
   ]
  },
  {
   "cell_type": "code",
   "execution_count": 16,
   "id": "9da7c577",
   "metadata": {},
   "outputs": [
    {
     "name": "stdout",
     "output_type": "stream",
     "text": [
      "set2 est un super-ensemble de set1\n"
     ]
    }
   ],
   "source": [
    "set1 = {1, 2, 3}\n",
    "set2 = {1, 2, 3, 4, 5}\n",
    "# Vérifier si set2 est un super-ensemble de set1\n",
    "if set2.issuperset(set1):\n",
    "  print(\"set2 est un super-ensemble de set1\")\n",
    "else:\n",
    "  print(\"set2 n'est pas un super-ensemble de set1\")"
   ]
  },
  {
   "cell_type": "markdown",
   "id": "a31d1e0c",
   "metadata": {},
   "source": [
    "## 2. Les dictionnaires\n",
    "Les dictionnaires sont des structures de données puissantes qui permettent de stocker des paires clé-valeur. Ils sont couramment utilisés pour associer des données à des clés uniques, ce qui les rend idéaux pour diverses tâches telles que la création de bases de données, la configuration de paramètres et le traitement de données textuelles. ils disposent les caractéristiques suivantes :\n",
    "* Flexibilité : Les dictionnaires peuvent stocker des valeurs de différents types, y compris des nombres, des chaînes de caractères, des listes et même d'autres dictionnaires.\n",
    "* Association efficace : Les dictionnaires permettent d'associer des données à des clés uniques, facilitant l'accès et la manipulation des données.\n",
    "* Performance : Les dictionnaires offrent une recherche et une récupération des données très efficaces, en particulier pour les accès par clé.\n",
    "* Utilisations multiples : Les dictionnaires sont polyvalents et peuvent être utilisés dans une large gamme d'applications, de la création de programmes simples à des projets complexes.\n",
    "\n",
    "### La comparaison des Listes, Sets et Dictionnaires\n",
    "<table>\n",
    "  <tr>\n",
    "    <th>Caractéristique</th>\n",
    "    <th>Listes</th>\n",
    "    <th>Sets</th>\n",
    "    <th>Dictionnaires</th>\n",
    "  </tr>\n",
    "  <tr>\n",
    "    <th>Unicité</th>\n",
    "    <td>Éléments uniques</td>\n",
    "    <td>Éléments peuvent être dupliqués</td>\n",
    "    <td>Clés uniques, valeurs peuvent être dupliquées</td>\n",
    "  </tr>\n",
    "  <tr>\n",
    "    <th>Ordre</th>\n",
    "    <td>Non ordonnés</td>\n",
    "    <td>Ordonnés</td>\n",
    "    <td>Clés non ordonnées, valeurs associées aux clés</td>\n",
    "  </tr>\n",
    "  <tr>\n",
    "    <th>Mutabilité</th>\n",
    "    <td>Immuables (standard)</td>\n",
    "    <td>Mutables</td>\n",
    "    <td>Mutables</td>\n",
    "  </tr>\n",
    "  <tr>\n",
    "    <th>Performance</th>\n",
    "    <td>Rapides pour certaines opérations (recherche, appartenance)</td>\n",
    "    <td>Moins performantes pour certaines opérations</td>\n",
    "    <td>Rapides pour l'accès aux éléments par clé</td>\n",
    "  </tr>\n",
    "  <tr>\n",
    "    <th>Utilisation</th>\n",
    "    <td>Stocker des collections d'éléments uniques, éliminer les doublons</td>\n",
    "    <td>Stocker des collections ordonnées, des l</td>\n",
    "    <td>Stocker des paires clé-valeur, associer des données à des clés</td>\n",
    "  </tr>\n",
    "</table>\n"
   ]
  },
  {
   "cell_type": "markdown",
   "id": "059cc4f1",
   "metadata": {},
   "source": [
    "### Compréhension des dictionnaires\n",
    "#### 1. Création de Dictionnaires\n",
    "Les dictionnaires sont créés à l'aide d'accolades {} et en séparant les paires clé-valeur par des virgules. Les clés doivent être uniques et immuables (généralement des chaînes de caractères ou des nombres), tandis que les valeurs peuvent être de n'importe quel type de données Python. L'ordre des paires clé-valeur dans le dictionnaire n'est pas garanti."
   ]
  },
  {
   "cell_type": "code",
   "execution_count": 17,
   "id": "fd4d1519",
   "metadata": {},
   "outputs": [],
   "source": [
    "# Dictionnaire vide\n",
    "mon_dictionnaire = {}\n",
    "\n",
    "# Dictionnaire avec quelques éléments\n",
    "mon_dictionnaire = {\"nom\": \"Alice\", \"age\": 30, \"ville\": \"Paris\"}\n",
    "\n",
    "\"\"\"\n",
    "Dictionnaire à partir d'une liste de paires clé-valeur\n",
    "La création d'un dictionnaire à partir d'une liste de paires permet de garantir l'unicité des clés.\n",
    "\"\"\"\n",
    "mon_dictionnaire = dict([(\"nom\", \"Bob\"), (\"age\", 25), (\"ville\", \"Lyon\")])"
   ]
  },
  {
   "cell_type": "markdown",
   "id": "4934d599",
   "metadata": {},
   "source": [
    "#### 2. Accèsr aux Éléments d'un Dictionnaire (Clés et Valeurs)\n",
    "On peut accéder aux valeurs d'un dictionnaire en utilisant la clé correspondante entre crochets [], mais si on essaie d'accéder à une clé inexistante, une erreur **KeyError** est levée; ce qui nous renvoie d'utiliser l'opérateur **in** pour vérifier si une clé existe dans un dictionnaire avant d'y accéder."
   ]
  },
  {
   "cell_type": "code",
   "execution_count": 1,
   "id": "60bb5171",
   "metadata": {},
   "outputs": [],
   "source": [
    "mon_dictionnaire = {\"nom\": \"Alice\", \"age\": 30, \"ville\": \"Paris\"}\n",
    "# Accéder à une valeur par sa clé\n",
    "nom = mon_dictionnaire[\"nom\"]  # nom = \"Alice\"\n",
    "age = mon_dictionnaire[\"age\"]   # age = 30\n",
    "# Accéder à une valeur par une clé inexistante (provoque une erreur)\n",
    "ville_inconnue = mon_dictionnaire[\"ville\"]"
   ]
  },
  {
   "cell_type": "markdown",
   "id": "49b51f09",
   "metadata": {},
   "source": [
    "### 3. Ajouter, Modifier et Supprimer des Éléments d'un Dictionnaire\n",
    "Comme vous avez déjà pris compte que les dictionnaires sont mutables, donc on peut ajouter de nouveaux éléments, modifier des valeurs existantes et supprimer des éléments d'un dictionnaire en utilisant des affectations directes."
   ]
  },
  {
   "cell_type": "code",
   "execution_count": null,
   "id": "8677dfab",
   "metadata": {},
   "outputs": [],
   "source": [
    "mon_dictionnaire = {\"nom\": \"Alice\", \"age\": 30, \"ville\": \"Paris\"}\n",
    "\n",
    "# Ajouter un nouvel élément\n",
    "mon_dictionnaire[\"profession\"] = \"Développeuse\"\n",
    "print(mon_dictionnaire)\n",
    "# Modifier une valeur existante\n",
    "mon_dictionnaire[\"age\"] = 31\n",
    "print(mon_dictionnaire)\n",
    "# Supprimer un élément\n",
    "del mon_dictionnaire[\"ville\"]\n",
    "print(mon_dictionnaire)\n"
   ]
  },
  {
   "cell_type": "markdown",
   "id": "f9456228",
   "metadata": {},
   "source": [
    "#### 4. Parcourir les Éléments d'un Dictionnaire\n",
    "Pour parcourir les éléments d'un dictionnaire nous allons utiliser les boucles for pour itérer sur les clés, les valeurs ou les paires clé-valeur. Les méthodes comme **keys(), values() et items()** va nous aider d'obtenir des vues sur les clés, les valeurs ou les paires du dictionnaire."
   ]
  },
  {
   "cell_type": "code",
   "execution_count": 21,
   "id": "6fad753b",
   "metadata": {},
   "outputs": [
    {
     "name": "stdout",
     "output_type": "stream",
     "text": [
      "nom\n",
      "age\n",
      "ville\n",
      "Alice\n",
      "30\n",
      "Paris\n",
      "nom -> Alice\n",
      "age -> 30\n",
      "ville -> Paris\n"
     ]
    }
   ],
   "source": [
    "mon_dictionnaire = {\"nom\": \"Alice\", \"age\": 30, \"ville\": \"Paris\"}\n",
    "\n",
    "# Parcourir les clés du dictionnaire\n",
    "for cle in mon_dictionnaire:\n",
    "  print(cle)  # Affiche: \"nom\", \"age\", \"ville\"\n",
    "\n",
    "# Parcourir les valeurs du dictionnaire\n",
    "for valeur in mon_dictionnaire.values():\n",
    "  print(valeur)  # Affiche: \"Alice\", 30, \"Paris\"\n",
    "\n",
    "# Parcourir les paires clé-valeur du dictionnaire\n",
    "for cle, valeur in mon_dictionnaire.items():\n",
    "  print(f\"{cle} -> {valeur}\")  # Affiche: \"nom -> Alice\", \"age -> 30\", \"ville -> Paris\"\n"
   ]
  },
  {
   "cell_type": "markdown",
   "id": "ae03caec",
   "metadata": {},
   "source": [
    "### certaines fonctionnalités avancées des dictionnaires\n",
    "#### 1. Nesting de Dictionnaires (Dictionnaires dans des Dictionnaires)\n",
    "C'est possible créer des structures de données plus complexes en imbriquant des dictionnaires dans d'autres dictionnaires. Cela permet de représenter des hiérarchies de données ou des relations entre des entités ainsi que ça permet aux dictionnaires imbriqués de modéliser des relations complexes entre des données."
   ]
  },
  {
   "cell_type": "code",
   "execution_count": 22,
   "id": "c114b57e",
   "metadata": {},
   "outputs": [
    {
     "name": "stdout",
     "output_type": "stream",
     "text": [
      "Mathématiques\n",
      "78\n"
     ]
    }
   ],
   "source": [
    "# Dictionnaire imbriqué représentant des étudiants et leurs cours\n",
    "etudiants = {\n",
    "  \"Alice\": {\"cours\": [\"Mathématiques\", \"Informatique\"], \"note_moyenne\": 85},\n",
    "  \"Prince\": {\"cours\": [\"IRS\", \"Comptabilité\"], \"note_moyenne\": 78},\n",
    "}\n",
    "# Accéder aux données imbriquées\n",
    "note_alice_math = etudiants[\"Alice\"][\"cours\"][0]  # note_alice_math = \"Mathématiques\"\n",
    "note_prince_IRS = etudiants[\"Prince\"][\"note_moyenne\"]  # note_prince_IRS = 78\n",
    "print(note_alice_math)\n",
    "print(note_prince_IRS)"
   ]
  },
  {
   "cell_type": "markdown",
   "id": "cd1a0ead",
   "metadata": {},
   "source": [
    "#### 2. Utilisation des Dictionnaires comme Valeurs par Défaut\n",
    "Nous pouvons utiliser des dictionnaires comme valeurs par défaut pour les arguments de fonction ou les entrées de table de hachage, car ça va nous permettre de fournir des valeurs par défaut dynamiques en fonction de la clé. "
   ]
  },
  {
   "cell_type": "code",
   "execution_count": 24,
   "id": "ae0d6e61",
   "metadata": {},
   "outputs": [
    {
     "name": "stdout",
     "output_type": "stream",
     "text": [
      "90\n",
      "-2\n"
     ]
    }
   ],
   "source": [
    "def get_note_etudiant(nom_etudiant, cours):\n",
    "  notes_etudiants = {\"Alice\": {\"Mathématiques\": 90, \"Informatique\": 85},\n",
    "                     \"Prince\": {\"IRS\": 75, \"Chimie\": 82}}\n",
    "  return notes_etudiants.get(nom_etudiant, {}).get(cours, -1)\n",
    "\n",
    "note_alice_math = get_note_etudiant(\"Alice\", \"Mathématiques\")  # note_alice_math = 90\n",
    "note_prince_histoire = get_note_etudiant(\"Prince\", \"Histoire\")  # note_prince_histoire = -1 (cours inexistant)\n",
    "\n",
    "print(note_alice_math)\n",
    "print(note_prince_histoire)"
   ]
  },
  {
   "cell_type": "markdown",
   "id": "964ee6b4",
   "metadata": {},
   "source": [
    "* Les dictionnaires comme valeurs par défaut permettent de gérer des situations avec des données incomplètes ou des clés inconnues.\n",
    "* La méthode get() renvoie None si la clé n'est pas trouvée, ce qui permet de gérer les valeurs par défaut personnalisées.\n",
    "### 3. Comparaison et Tri des Dictionnaires\n",
    "La comparaison de dictionnaires en Python est généralement basée sur les clés. On peut utiliser des opérateurs de comparaison comme **==, !=, <, >, <= et >=** pour comparer les dictionnaires.\n",
    "Pour le Tri c'est la fonction **sorted** qui nous permet de faire le Tri directement sans passer par les algoritmes."
   ]
  },
  {
   "cell_type": "code",
   "execution_count": 25,
   "id": "8455515a",
   "metadata": {},
   "outputs": [
    {
     "data": {
      "text/plain": [
       "False"
      ]
     },
     "execution_count": 25,
     "metadata": {},
     "output_type": "execute_result"
    }
   ],
   "source": [
    "dictionnaire1 = {\"nom\": \"Alice\", \"age\": 30}\n",
    "dictionnaire2 = {\"nom\": \"Bob\", \"age\": 30}\n",
    "\n",
    "dictionnaire1 == dictionnaire2  # False (les clés sont différentes)\n",
    "dictionnaire1[\"age\"] = 31\n",
    "dictionnaire1 == dictionnaire2  # True (les clés et les valeurs sont identiques)"
   ]
  },
  {
   "cell_type": "markdown",
   "id": "3b4a6511",
   "metadata": {},
   "source": [
    "#### 4. Copier et Fusionner des Dictionnaires\n",
    "On peut copier des dictionnaires en créant une nouvelle référence ou en utilisant des méthodes de copie. De même on peut également fusionner des dictionnaires en combinant leurs paires clé-valeur."
   ]
  },
  {
   "cell_type": "code",
   "execution_count": 26,
   "id": "2dbebe2c",
   "metadata": {},
   "outputs": [
    {
     "name": "stdout",
     "output_type": "stream",
     "text": [
      "{'nom': 'Alice', 'age': 30, 'ville': 'Paris', 'profession': 'Développeuse'}\n"
     ]
    }
   ],
   "source": [
    "dictionnaire_original = {\"nom\": \"Alice\", \"age\": 30}\n",
    "# Copie par référence\n",
    "copie_par_reference = dictionnaire_original\n",
    "copie_par_reference[\"ville\"] = \"Paris\"\n",
    "\n",
    "# Copie par méthode\n",
    "copie_par_methode = dictionnaire_original.copy()\n",
    "copie_par_methode[\"profession\"] = \"Développeuse\"\n",
    "\n",
    "# Fusion de dictionnaires\n",
    "dictionnaire_fusionne = dict(dictionnaire_original, **copie_par_methode)\n",
    "print(dictionnaire_fusionne)\n"
   ]
  },
  {
   "cell_type": "code",
   "execution_count": null,
   "id": "36adbfee",
   "metadata": {},
   "outputs": [],
   "source": []
  }
 ],
 "metadata": {
  "kernelspec": {
   "display_name": "Python 3 (ipykernel)",
   "language": "python",
   "name": "python3"
  },
  "language_info": {
   "codemirror_mode": {
    "name": "ipython",
    "version": 3
   },
   "file_extension": ".py",
   "mimetype": "text/x-python",
   "name": "python",
   "nbconvert_exporter": "python",
   "pygments_lexer": "ipython3",
   "version": "3.9.6"
  }
 },
 "nbformat": 4,
 "nbformat_minor": 5
}
